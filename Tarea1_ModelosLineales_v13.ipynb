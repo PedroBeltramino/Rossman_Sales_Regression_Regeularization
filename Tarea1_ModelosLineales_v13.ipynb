{
 "cells": [
  {
   "cell_type": "markdown",
   "metadata": {
    "id": "ZySf8skyfmYb"
   },
   "source": [
    "# Tarea 1: MODELOS LINEALES\n",
    "#### Grupo 1: Avila - Beltramino - Bonet - Cicerchia - Saucedo - Settinimi\n"
   ]
  },
  {
   "cell_type": "markdown",
   "metadata": {
    "id": "zXygWjDXfmYe"
   },
   "source": [
    "## Seteos Preliminares"
   ]
  },
  {
   "cell_type": "code",
   "execution_count": 2,
   "metadata": {
    "id": "UXIi21f5fmYf"
   },
   "outputs": [],
   "source": [
    "#Importamos Librerias\n",
    "import pandas as pd\n",
    "import numpy as np\n",
    "import seaborn as sns # Para hacer graficos\n",
    "import sklearn\n",
    "\n",
    "from sklearn import datasets\n",
    "from sklearn.datasets import make_classification\n",
    "\n",
    "from sklearn.preprocessing import LabelEncoder, StandardScaler, MinMaxScaler \n",
    "\n",
    "from sklearn.model_selection import train_test_split, GridSearchCV, StratifiedKFold, learning_curve, ShuffleSplit, RepeatedStratifiedKFold\n",
    "from sklearn.model_selection import cross_val_predict as cvp\n",
    "from sklearn.model_selection import KFold, RepeatedKFold\n",
    "\n",
    "from sklearn.linear_model import LinearRegression, LogisticRegression, Perceptron, Lasso, Ridge\n",
    "from sklearn.linear_model import SGDClassifier, RidgeClassifier\n",
    "from sklearn.discriminant_analysis import LinearDiscriminantAnalysis\n",
    "\n",
    "from sklearn import metrics\n",
    "from sklearn.metrics import r2_score, mean_absolute_error, mean_squared_error, accuracy_score,roc_auc_score\n",
    "\n",
    "from sklearn.naive_bayes import GaussianNB\n",
    "from sklearn.svm import SVC, LinearSVC, SVR\n",
    "from sklearn.ensemble import RandomForestClassifier, GradientBoostingClassifier, ExtraTreesClassifier \n",
    "from sklearn.ensemble import BaggingClassifier, AdaBoostClassifier, VotingClassifier\n",
    "from sklearn.neighbors import KNeighborsClassifier\n",
    "from sklearn.gaussian_process import GaussianProcessClassifier\n",
    "from sklearn.neural_network import MLPClassifier\n",
    "from sklearn.tree import DecisionTreeClassifier\n",
    "import itertools\n",
    "\n",
    "from sklearn.decomposition import PCA\n",
    "\n",
    "from datetime import datetime, timedelta # Para poder trabajar con formato fecha y hora\n",
    "from statistics import mode\n",
    "\n",
    "import math\n",
    "import random\n",
    "import matplotlib.pyplot as plt\n",
    "%matplotlib inline\n",
    "from matplotlib.pyplot import barh\n",
    "\n",
    "import warnings\n",
    "warnings.filterwarnings(\"ignore\")"
   ]
  },
  {
   "cell_type": "markdown",
   "metadata": {
    "id": "JWljADFqfmYg"
   },
   "source": [
    "##  Regresion"
   ]
  },
  {
   "cell_type": "markdown",
   "metadata": {
    "id": "eEgWaPJsfmYh"
   },
   "source": [
    "### Introducción \n",
    "\n",
    "A continuación se propone una tarea de regresión con el dataset “Rossmann Store Sales” este conjunto está disponible en el campus. El objetivo del dataset es predecir las ventas de la cadena de tiendas Rossman. Hay que tener en cuenta que algunas\n",
    "tiendas se pueden encontrar cerradas, por lo cual no hay actividad. El dataset Rossman_train.csv contiene los datos para realizar las predicciones de las ventas, presentes en la variable “Sales”. El dataset Rossman_store.csv contiene\n",
    "información extra para la consigna opcional."
   ]
  },
  {
   "cell_type": "markdown",
   "metadata": {
    "id": "CwyU65LgfmYh"
   },
   "source": [
    "#### Lectura y Limpieza de los Datos"
   ]
  },
  {
   "cell_type": "markdown",
   "metadata": {
    "id": "K5xPPVIQfmYi"
   },
   "source": [
    "##### Lectura de los datos"
   ]
  },
  {
   "cell_type": "code",
   "execution_count": 3,
   "metadata": {
    "id": "jT_OoPLjfmYi"
   },
   "outputs": [],
   "source": [
    "#rawtrain = pd.read_csv(\"C:/Users/georg/Desktop/Maestria/DMA/Rossman/Rossman_train.csv\")\n",
    "# RUTA GEORGI \"C:/Users/georg/Desktop/Maestria/DMA/Rossman/Rossman_train.csv\"\n",
    "# RUTA MELI \"C:/Users/mavila/Desktop/MDGC/DM avanzado/Tareas/Tarea1/Rossman_train.csv\"\n",
    "# RUTA PAU \"C:/Users/pbonet/Desktop/DMA/Tarea1/Rossman_originales/Rossman_train.csv\"\n",
    "# test = pd.read_csv(\"C:/Users/georg/Desktop/Maestria/DMA/Rossman/Rossman_store.csv\")\n",
    "rawtrain = pd.read_csv(\"C:/Users/pbeltramino/Desktop/MGCD/DMA/Tarea_1/Rossman_train.csv\")"
   ]
  },
  {
   "cell_type": "code",
   "execution_count": 4,
   "metadata": {
    "id": "sVePZA7TfmYj",
    "outputId": "ae0e7715-d969-4529-c7bd-0f164ec4a0a9"
   },
   "outputs": [
    {
     "data": {
      "text/html": [
       "<div>\n",
       "<style scoped>\n",
       "    .dataframe tbody tr th:only-of-type {\n",
       "        vertical-align: middle;\n",
       "    }\n",
       "\n",
       "    .dataframe tbody tr th {\n",
       "        vertical-align: top;\n",
       "    }\n",
       "\n",
       "    .dataframe thead th {\n",
       "        text-align: right;\n",
       "    }\n",
       "</style>\n",
       "<table border=\"1\" class=\"dataframe\">\n",
       "  <thead>\n",
       "    <tr style=\"text-align: right;\">\n",
       "      <th></th>\n",
       "      <th>Store</th>\n",
       "      <th>DayOfWeek</th>\n",
       "      <th>Date</th>\n",
       "      <th>Sales</th>\n",
       "      <th>Customers</th>\n",
       "      <th>Open</th>\n",
       "      <th>Promo</th>\n",
       "      <th>StateHoliday</th>\n",
       "      <th>SchoolHoliday</th>\n",
       "    </tr>\n",
       "  </thead>\n",
       "  <tbody>\n",
       "    <tr>\n",
       "      <th>0</th>\n",
       "      <td>1</td>\n",
       "      <td>5</td>\n",
       "      <td>2015-07-31</td>\n",
       "      <td>5263</td>\n",
       "      <td>555</td>\n",
       "      <td>1</td>\n",
       "      <td>1</td>\n",
       "      <td>0</td>\n",
       "      <td>1</td>\n",
       "    </tr>\n",
       "    <tr>\n",
       "      <th>1</th>\n",
       "      <td>2</td>\n",
       "      <td>5</td>\n",
       "      <td>2015-07-31</td>\n",
       "      <td>6064</td>\n",
       "      <td>625</td>\n",
       "      <td>1</td>\n",
       "      <td>1</td>\n",
       "      <td>0</td>\n",
       "      <td>1</td>\n",
       "    </tr>\n",
       "    <tr>\n",
       "      <th>2</th>\n",
       "      <td>3</td>\n",
       "      <td>5</td>\n",
       "      <td>2015-07-31</td>\n",
       "      <td>8314</td>\n",
       "      <td>821</td>\n",
       "      <td>1</td>\n",
       "      <td>1</td>\n",
       "      <td>0</td>\n",
       "      <td>1</td>\n",
       "    </tr>\n",
       "    <tr>\n",
       "      <th>3</th>\n",
       "      <td>4</td>\n",
       "      <td>5</td>\n",
       "      <td>2015-07-31</td>\n",
       "      <td>13995</td>\n",
       "      <td>1498</td>\n",
       "      <td>1</td>\n",
       "      <td>1</td>\n",
       "      <td>0</td>\n",
       "      <td>1</td>\n",
       "    </tr>\n",
       "    <tr>\n",
       "      <th>4</th>\n",
       "      <td>5</td>\n",
       "      <td>5</td>\n",
       "      <td>2015-07-31</td>\n",
       "      <td>4822</td>\n",
       "      <td>559</td>\n",
       "      <td>1</td>\n",
       "      <td>1</td>\n",
       "      <td>0</td>\n",
       "      <td>1</td>\n",
       "    </tr>\n",
       "  </tbody>\n",
       "</table>\n",
       "</div>"
      ],
      "text/plain": [
       "   Store  DayOfWeek        Date  Sales  Customers  Open  Promo StateHoliday  \\\n",
       "0      1          5  2015-07-31   5263        555     1      1            0   \n",
       "1      2          5  2015-07-31   6064        625     1      1            0   \n",
       "2      3          5  2015-07-31   8314        821     1      1            0   \n",
       "3      4          5  2015-07-31  13995       1498     1      1            0   \n",
       "4      5          5  2015-07-31   4822        559     1      1            0   \n",
       "\n",
       "   SchoolHoliday  \n",
       "0              1  \n",
       "1              1  \n",
       "2              1  \n",
       "3              1  \n",
       "4              1  "
      ]
     },
     "execution_count": 4,
     "metadata": {},
     "output_type": "execute_result"
    }
   ],
   "source": [
    "# Visualizacion de los primeros valores del Set de Datos \n",
    "rawtrain.head()"
   ]
  },
  {
   "cell_type": "code",
   "execution_count": 5,
   "metadata": {
    "id": "nVrdZKROfmYk",
    "outputId": "04bddc6f-5643-417f-9a33-bf1fe1037224"
   },
   "outputs": [
    {
     "name": "stdout",
     "output_type": "stream",
     "text": [
      "<class 'pandas.core.frame.DataFrame'>\n",
      "RangeIndex: 1017209 entries, 0 to 1017208\n",
      "Data columns (total 9 columns):\n",
      " #   Column         Non-Null Count    Dtype \n",
      "---  ------         --------------    ----- \n",
      " 0   Store          1017209 non-null  int64 \n",
      " 1   DayOfWeek      1017209 non-null  int64 \n",
      " 2   Date           1017209 non-null  object\n",
      " 3   Sales          1017209 non-null  int64 \n",
      " 4   Customers      1017209 non-null  int64 \n",
      " 5   Open           1017209 non-null  int64 \n",
      " 6   Promo          1017209 non-null  int64 \n",
      " 7   StateHoliday   1017209 non-null  object\n",
      " 8   SchoolHoliday  1017209 non-null  int64 \n",
      "dtypes: int64(7), object(2)\n",
      "memory usage: 69.8+ MB\n"
     ]
    }
   ],
   "source": [
    "# Verificación tamaño del Set de Datos, el tipo de datos y existencia de Nulos\n",
    "rawtrain.info()"
   ]
  },
  {
   "cell_type": "markdown",
   "metadata": {
    "id": "9c7U8RfLfmYk"
   },
   "source": [
    "No hay N/A en ninguna variable"
   ]
  },
  {
   "cell_type": "markdown",
   "metadata": {
    "id": "ZoXy0--QfmYk"
   },
   "source": [
    "##### Limpieza"
   ]
  },
  {
   "cell_type": "code",
   "execution_count": 6,
   "metadata": {
    "id": "swT0pdzvfmYl"
   },
   "outputs": [],
   "source": [
    "#Guardamos una copia del Set de Datos Original para trabajar \n",
    "train = rawtrain.copy()"
   ]
  },
  {
   "cell_type": "markdown",
   "metadata": {
    "id": "806XL5DHfmYl"
   },
   "source": [
    "- Date tiene formato de fecha? No, tiene formato 'Object' "
   ]
  },
  {
   "cell_type": "code",
   "execution_count": 7,
   "metadata": {
    "id": "fzwy-tgMfmYl",
    "outputId": "e988b61f-2a61-4d04-fa29-8ae5a51d03c1"
   },
   "outputs": [
    {
     "data": {
      "text/plain": [
       "Store                     int64\n",
       "DayOfWeek                 int64\n",
       "Date             datetime64[ns]\n",
       "Sales                     int64\n",
       "Customers                 int64\n",
       "Open                      int64\n",
       "Promo                     int64\n",
       "StateHoliday             object\n",
       "SchoolHoliday             int64\n",
       "dtype: object"
      ]
     },
     "execution_count": 7,
     "metadata": {},
     "output_type": "execute_result"
    }
   ],
   "source": [
    "train['Date'] = pd.to_datetime(train['Date'], format=\"%Y/%m/%d\")\n",
    "# Corroboremos\n",
    "train.dtypes"
   ]
  },
  {
   "cell_type": "markdown",
   "metadata": {
    "id": "UoB8BBSJfmYm"
   },
   "source": [
    "- StateHoliday tiene todos los valores correctos? Sabemos que no tiene Nulos. Veamos qué datos tiene"
   ]
  },
  {
   "cell_type": "code",
   "execution_count": 8,
   "metadata": {
    "id": "TVic1meefmYm",
    "outputId": "d20ad7f0-37e5-4bb0-a4e8-9e5e28be2ce9"
   },
   "outputs": [
    {
     "data": {
      "text/plain": [
       "0    131072\n",
       "b      6690\n",
       "c      4100\n",
       "0    855087\n",
       "a     20260\n",
       "Name: StateHoliday, dtype: int64"
      ]
     },
     "execution_count": 8,
     "metadata": {},
     "output_type": "execute_result"
    }
   ],
   "source": [
    "# El value_counts de Pandas permite ver la frecuencia de aparición de un valor, digamos funciona como una tabla de frecuencia.\n",
    "train[\"StateHoliday\"].value_counts(sort = False)"
   ]
  },
  {
   "cell_type": "markdown",
   "metadata": {
    "id": "JTPYGeDdfmYm"
   },
   "source": [
    "Hay muchos valores en StateHoliday que, si bien no son nulos, están en 0. Cambiamos los valores para generar una columna numerica. *(Importa para luego hacer la regresion)*"
   ]
  },
  {
   "cell_type": "code",
   "execution_count": 9,
   "metadata": {
    "id": "mzCDA_vEfmYn",
    "outputId": "ffcb2dc9-73dd-46c0-ba71-9f61c1a672d3"
   },
   "outputs": [
    {
     "data": {
      "text/plain": [
       "Store                     int64\n",
       "DayOfWeek                 int64\n",
       "Date             datetime64[ns]\n",
       "Sales                     int64\n",
       "Customers                 int64\n",
       "Open                      int64\n",
       "Promo                     int64\n",
       "StateHoliday              int64\n",
       "SchoolHoliday             int64\n",
       "dtype: object"
      ]
     },
     "execution_count": 9,
     "metadata": {},
     "output_type": "execute_result"
    }
   ],
   "source": [
    "train['StateHoliday']= train['StateHoliday'].map({'a':1, 'b' : 2, 'c': 3, '0':0, 0:0})\n",
    "# Verifico el tipo de datos y vemos que ya fue convertido a valor numérico \"float64\" que es la conversión estándar de Pandas \n",
    "train.dtypes"
   ]
  },
  {
   "cell_type": "markdown",
   "metadata": {
    "id": "Xe_A3tOVfmYn"
   },
   "source": [
    "### Punto 1\n",
    "Separar los datos de ventas por tienda y por dia. Esto significa asociar las ventas de cada tienda con igual id en un contenedor. "
   ]
  },
  {
   "cell_type": "code",
   "execution_count": 10,
   "metadata": {
    "id": "NT_2vi4DfmYn",
    "outputId": "a81bcbc5-3aab-4fad-9f06-44b81ac1893e"
   },
   "outputs": [
    {
     "data": {
      "text/html": [
       "<div>\n",
       "<style scoped>\n",
       "    .dataframe tbody tr th:only-of-type {\n",
       "        vertical-align: middle;\n",
       "    }\n",
       "\n",
       "    .dataframe tbody tr th {\n",
       "        vertical-align: top;\n",
       "    }\n",
       "\n",
       "    .dataframe thead th {\n",
       "        text-align: right;\n",
       "    }\n",
       "</style>\n",
       "<table border=\"1\" class=\"dataframe\">\n",
       "  <thead>\n",
       "    <tr style=\"text-align: right;\">\n",
       "      <th></th>\n",
       "      <th></th>\n",
       "      <th>Sales</th>\n",
       "    </tr>\n",
       "    <tr>\n",
       "      <th>Store</th>\n",
       "      <th>DayOfWeek</th>\n",
       "      <th></th>\n",
       "    </tr>\n",
       "  </thead>\n",
       "  <tbody>\n",
       "    <tr>\n",
       "      <th rowspan=\"7\" valign=\"top\">1</th>\n",
       "      <th>1</th>\n",
       "      <td>662780</td>\n",
       "    </tr>\n",
       "    <tr>\n",
       "      <th>2</th>\n",
       "      <td>627874</td>\n",
       "    </tr>\n",
       "    <tr>\n",
       "      <th>3</th>\n",
       "      <td>601354</td>\n",
       "    </tr>\n",
       "    <tr>\n",
       "      <th>4</th>\n",
       "      <td>552772</td>\n",
       "    </tr>\n",
       "    <tr>\n",
       "      <th>5</th>\n",
       "      <td>609716</td>\n",
       "    </tr>\n",
       "    <tr>\n",
       "      <th>6</th>\n",
       "      <td>662358</td>\n",
       "    </tr>\n",
       "    <tr>\n",
       "      <th>7</th>\n",
       "      <td>0</td>\n",
       "    </tr>\n",
       "    <tr>\n",
       "      <th rowspan=\"7\" valign=\"top\">2</th>\n",
       "      <th>1</th>\n",
       "      <td>775930</td>\n",
       "    </tr>\n",
       "    <tr>\n",
       "      <th>2</th>\n",
       "      <td>719473</td>\n",
       "    </tr>\n",
       "    <tr>\n",
       "      <th>3</th>\n",
       "      <td>770213</td>\n",
       "    </tr>\n",
       "    <tr>\n",
       "      <th>4</th>\n",
       "      <td>630869</td>\n",
       "    </tr>\n",
       "    <tr>\n",
       "      <th>5</th>\n",
       "      <td>602377</td>\n",
       "    </tr>\n",
       "    <tr>\n",
       "      <th>6</th>\n",
       "      <td>384996</td>\n",
       "    </tr>\n",
       "    <tr>\n",
       "      <th>7</th>\n",
       "      <td>0</td>\n",
       "    </tr>\n",
       "    <tr>\n",
       "      <th>3</th>\n",
       "      <th>1</th>\n",
       "      <td>1067314</td>\n",
       "    </tr>\n",
       "  </tbody>\n",
       "</table>\n",
       "</div>"
      ],
      "text/plain": [
       "                   Sales\n",
       "Store DayOfWeek         \n",
       "1     1           662780\n",
       "      2           627874\n",
       "      3           601354\n",
       "      4           552772\n",
       "      5           609716\n",
       "      6           662358\n",
       "      7                0\n",
       "2     1           775930\n",
       "      2           719473\n",
       "      3           770213\n",
       "      4           630869\n",
       "      5           602377\n",
       "      6           384996\n",
       "      7                0\n",
       "3     1          1067314"
      ]
     },
     "execution_count": 10,
     "metadata": {},
     "output_type": "execute_result"
    }
   ],
   "source": [
    "# Agrupamos en el Set \"bystore\" los datos \"por dia\"\n",
    "# Entendiendo que \"por dia\" es por dia de la semana (DayOfWeek) y no por fecha.\n",
    "bystore = train[[\"Store\", \"DayOfWeek\", \"Sales\"]].groupby(['Store','DayOfWeek']).sum()\n",
    "bystore.head(15)"
   ]
  },
  {
   "cell_type": "markdown",
   "metadata": {
    "id": "vi_0R7gpfmYo"
   },
   "source": [
    "Luego, de forma independiente al procedimiento anterior, obtener el promedio de ventas de cada día."
   ]
  },
  {
   "cell_type": "code",
   "execution_count": 11,
   "metadata": {
    "id": "ZslqLu0TfmYo",
    "outputId": "63a145a7-ea10-4c93-a98e-03f334098db7"
   },
   "outputs": [
    {
     "data": {
      "text/html": [
       "<div>\n",
       "<style scoped>\n",
       "    .dataframe tbody tr th:only-of-type {\n",
       "        vertical-align: middle;\n",
       "    }\n",
       "\n",
       "    .dataframe tbody tr th {\n",
       "        vertical-align: top;\n",
       "    }\n",
       "\n",
       "    .dataframe thead th {\n",
       "        text-align: right;\n",
       "    }\n",
       "</style>\n",
       "<table border=\"1\" class=\"dataframe\">\n",
       "  <thead>\n",
       "    <tr style=\"text-align: right;\">\n",
       "      <th></th>\n",
       "      <th>Sales</th>\n",
       "    </tr>\n",
       "    <tr>\n",
       "      <th>DayOfWeek</th>\n",
       "      <th></th>\n",
       "    </tr>\n",
       "  </thead>\n",
       "  <tbody>\n",
       "    <tr>\n",
       "      <th>1</th>\n",
       "      <td>7809.044510</td>\n",
       "    </tr>\n",
       "    <tr>\n",
       "      <th>2</th>\n",
       "      <td>7005.244467</td>\n",
       "    </tr>\n",
       "    <tr>\n",
       "      <th>3</th>\n",
       "      <td>6555.884138</td>\n",
       "    </tr>\n",
       "    <tr>\n",
       "      <th>4</th>\n",
       "      <td>6247.575913</td>\n",
       "    </tr>\n",
       "    <tr>\n",
       "      <th>5</th>\n",
       "      <td>6723.274305</td>\n",
       "    </tr>\n",
       "    <tr>\n",
       "      <th>6</th>\n",
       "      <td>5847.562599</td>\n",
       "    </tr>\n",
       "    <tr>\n",
       "      <th>7</th>\n",
       "      <td>204.183189</td>\n",
       "    </tr>\n",
       "  </tbody>\n",
       "</table>\n",
       "</div>"
      ],
      "text/plain": [
       "                 Sales\n",
       "DayOfWeek             \n",
       "1          7809.044510\n",
       "2          7005.244467\n",
       "3          6555.884138\n",
       "4          6247.575913\n",
       "5          6723.274305\n",
       "6          5847.562599\n",
       "7           204.183189"
      ]
     },
     "execution_count": 11,
     "metadata": {},
     "output_type": "execute_result"
    }
   ],
   "source": [
    "byday = train[[\"DayOfWeek\", \"Sales\"]].groupby(['DayOfWeek']).mean()\n",
    "byday"
   ]
  },
  {
   "cell_type": "markdown",
   "metadata": {
    "id": "K6J8t212fmYo"
   },
   "source": [
    "Realizar un plot de las ventas de los primeros 60 días de la tienda 1. Los ejes deben ser Tiempo vs Ventas. Para ello, primero debemos obtener un data frame con estos filtros: Store == 1 Date >= min(date) Como auxiliar, puedo primero filtrar mi data frame segun store, luego ordenar mi por fecha y obtener las primeras 60 filas"
   ]
  },
  {
   "cell_type": "code",
   "execution_count": 12,
   "metadata": {
    "id": "DFZ-rHlMfmYo",
    "outputId": "500f4b39-121b-4b9a-959b-78c964efe01b"
   },
   "outputs": [
    {
     "data": {
      "text/html": [
       "<div>\n",
       "<style scoped>\n",
       "    .dataframe tbody tr th:only-of-type {\n",
       "        vertical-align: middle;\n",
       "    }\n",
       "\n",
       "    .dataframe tbody tr th {\n",
       "        vertical-align: top;\n",
       "    }\n",
       "\n",
       "    .dataframe thead th {\n",
       "        text-align: right;\n",
       "    }\n",
       "</style>\n",
       "<table border=\"1\" class=\"dataframe\">\n",
       "  <thead>\n",
       "    <tr style=\"text-align: right;\">\n",
       "      <th></th>\n",
       "      <th>Date</th>\n",
       "      <th>Sales</th>\n",
       "    </tr>\n",
       "  </thead>\n",
       "  <tbody>\n",
       "    <tr>\n",
       "      <th>1016095</th>\n",
       "      <td>2013-01-01</td>\n",
       "      <td>0</td>\n",
       "    </tr>\n",
       "    <tr>\n",
       "      <th>1014980</th>\n",
       "      <td>2013-01-02</td>\n",
       "      <td>5530</td>\n",
       "    </tr>\n",
       "    <tr>\n",
       "      <th>1013865</th>\n",
       "      <td>2013-01-03</td>\n",
       "      <td>4327</td>\n",
       "    </tr>\n",
       "    <tr>\n",
       "      <th>1012750</th>\n",
       "      <td>2013-01-04</td>\n",
       "      <td>4486</td>\n",
       "    </tr>\n",
       "    <tr>\n",
       "      <th>1011635</th>\n",
       "      <td>2013-01-05</td>\n",
       "      <td>4997</td>\n",
       "    </tr>\n",
       "  </tbody>\n",
       "</table>\n",
       "</div>"
      ],
      "text/plain": [
       "              Date  Sales\n",
       "1016095 2013-01-01      0\n",
       "1014980 2013-01-02   5530\n",
       "1013865 2013-01-03   4327\n",
       "1012750 2013-01-04   4486\n",
       "1011635 2013-01-05   4997"
      ]
     },
     "execution_count": 12,
     "metadata": {},
     "output_type": "execute_result"
    }
   ],
   "source": [
    "# train.loc['Store'] == 1 esto devuelve booleanos. Todas las posiciones y te va diciendo True si es cierto.\n",
    "# Luego se lo paso al data set:\n",
    "step1 = train[train['Store'] == 1]\n",
    "step2 = step1.sort_values([\"Date\"], ascending = True) # by default es true\n",
    "step3 = step2.iloc[0:60] # no hace falta la ,: porque por default toma todas las variables del set\n",
    "# Chequeamos\n",
    "# len(step3)\n",
    "# step3.shape[0]\n",
    "step4= step3[[\"Date\", \"Sales\"]]\n",
    "step4.head()"
   ]
  },
  {
   "cell_type": "code",
   "execution_count": 13,
   "metadata": {
    "id": "OzEG6pDqfmYp"
   },
   "outputs": [],
   "source": [
    "#Hago una serie con el step4\n",
    "step5=step4.squeeze() #lo convierte en una time serie\n",
    "# step5.head()"
   ]
  },
  {
   "cell_type": "code",
   "execution_count": 14,
   "metadata": {
    "id": "QZW1SeYnfmYp",
    "outputId": "84429577-7e46-42aa-915a-06e79daf99e9"
   },
   "outputs": [
    {
     "data": {
      "text/plain": [
       "Text(0, 0.5, 'Ventas')"
      ]
     },
     "execution_count": 14,
     "metadata": {},
     "output_type": "execute_result"
    },
    {
     "data": {
      "image/png": "[encoded data removed]",
      "text/plain": [
       "<Figure size 720x432 with 1 Axes>"
      ]
     },
     "metadata": {
      "needs_background": "light"
     },
     "output_type": "display_data"
    }
   ],
   "source": [
    "#grafico con matplotlib\n",
    "plt.rc('font', size=12)\n",
    "fig, ax = plt.subplots(figsize=(10, 6))\n",
    "ax.plot(step5.Date, step5.Sales, color='tab:orange', label='Sales')\n",
    "plt.xticks(rotation=90)\n",
    "ax.set_title('Ventas por día en la store 1')\n",
    "ax.set_xlabel(\"Fecha\")\n",
    "ax.set_ylabel(\"Ventas\")"
   ]
  },
  {
   "cell_type": "code",
   "execution_count": 15,
   "metadata": {
    "id": "j5hzzMUkfmYq",
    "outputId": "2427fbd5-cabe-4413-ede1-238fb297779f"
   },
   "outputs": [
    {
     "data": {
      "text/plain": [
       "Text(0, 0.5, 'Ventas')"
      ]
     },
     "execution_count": 15,
     "metadata": {},
     "output_type": "execute_result"
    },
    {
     "data": {
      "image/png": "[encoded data removed]",
      "text/plain": [
       "<Figure size 720x432 with 1 Axes>"
      ]
     },
     "metadata": {
      "needs_background": "light"
     },
     "output_type": "display_data"
    }
   ],
   "source": [
    "#grafico con seaborn\n",
    "fig, ax = plt.subplots(figsize=(10, 6))\n",
    "store1 = sns.lineplot(data=step3, x='Date', y='Sales')\n",
    "plt.title(\"Ventas en la Tienda 1\")\n",
    "plt.xticks(rotation=90)\n",
    "ax.set_title('Ventas por día en la store 1')\n",
    "ax.set_xlabel(\"Fecha\")\n",
    "ax.set_ylabel(\"Ventas\")"
   ]
  },
  {
   "cell_type": "markdown",
   "metadata": {
    "id": "DRk0q9ilfmYq"
   },
   "source": [
    "Pareciera haber un dia en la semana SIN ventas. Veamos cual es:"
   ]
  },
  {
   "cell_type": "code",
   "execution_count": 16,
   "metadata": {
    "id": "25JS9xY5fmYr",
    "outputId": "5909e041-6e1e-4b22-8fad-7d629043d104"
   },
   "outputs": [
    {
     "data": {
      "text/html": [
       "<div>\n",
       "<style scoped>\n",
       "    .dataframe tbody tr th:only-of-type {\n",
       "        vertical-align: middle;\n",
       "    }\n",
       "\n",
       "    .dataframe tbody tr th {\n",
       "        vertical-align: top;\n",
       "    }\n",
       "\n",
       "    .dataframe thead th {\n",
       "        text-align: right;\n",
       "    }\n",
       "</style>\n",
       "<table border=\"1\" class=\"dataframe\">\n",
       "  <thead>\n",
       "    <tr style=\"text-align: right;\">\n",
       "      <th></th>\n",
       "      <th>Sales</th>\n",
       "    </tr>\n",
       "    <tr>\n",
       "      <th>DayOfWeek</th>\n",
       "      <th></th>\n",
       "    </tr>\n",
       "  </thead>\n",
       "  <tbody>\n",
       "    <tr>\n",
       "      <th>1</th>\n",
       "      <td>43228</td>\n",
       "    </tr>\n",
       "    <tr>\n",
       "      <th>2</th>\n",
       "      <td>38169</td>\n",
       "    </tr>\n",
       "    <tr>\n",
       "      <th>3</th>\n",
       "      <td>45798</td>\n",
       "    </tr>\n",
       "    <tr>\n",
       "      <th>4</th>\n",
       "      <td>42844</td>\n",
       "    </tr>\n",
       "    <tr>\n",
       "      <th>5</th>\n",
       "      <td>44814</td>\n",
       "    </tr>\n",
       "    <tr>\n",
       "      <th>6</th>\n",
       "      <td>43460</td>\n",
       "    </tr>\n",
       "    <tr>\n",
       "      <th>7</th>\n",
       "      <td>0</td>\n",
       "    </tr>\n",
       "  </tbody>\n",
       "</table>\n",
       "</div>"
      ],
      "text/plain": [
       "           Sales\n",
       "DayOfWeek       \n",
       "1          43228\n",
       "2          38169\n",
       "3          45798\n",
       "4          42844\n",
       "5          44814\n",
       "6          43460\n",
       "7              0"
      ]
     },
     "execution_count": 16,
     "metadata": {},
     "output_type": "execute_result"
    }
   ],
   "source": [
    "byDOW = step3[[\"DayOfWeek\", \"Sales\"]].groupby(\"DayOfWeek\").sum()\n",
    "byDOW"
   ]
  },
  {
   "cell_type": "code",
   "execution_count": 17,
   "metadata": {
    "id": "JDutJOFffmYr",
    "outputId": "7a962383-0cb5-45ec-ac5a-156b4d76f608"
   },
   "outputs": [
    {
     "data": {
      "text/plain": [
       "<AxesSubplot:xlabel='DayOfWeek', ylabel='Sales'>"
      ]
     },
     "execution_count": 17,
     "metadata": {},
     "output_type": "execute_result"
    },
    {
     "data": {
      "image/png": "[encoded data removed]",
      "text/plain": [
       "<Figure size 432x288 with 1 Axes>"
      ]
     },
     "metadata": {
      "needs_background": "light"
     },
     "output_type": "display_data"
    }
   ],
   "source": [
    "# Tambien se puede ver con un boxplot:\n",
    "sns.boxplot(data=step3,x=\"DayOfWeek\",y=\"Sales\")"
   ]
  },
  {
   "cell_type": "markdown",
   "metadata": {
    "id": "fa4iIuqzfmYr"
   },
   "source": [
    "El **domingo**, septimo día, está cerrada la Tienda 1, por eso no se registran ventas."
   ]
  },
  {
   "cell_type": "markdown",
   "metadata": {
    "id": "FnRJJbKefmYr"
   },
   "source": [
    "Realizar un plot del promedio de ventas también de los primeros 60 días. Se calcula el promedio de ventas de todas las tiendas. Los ejes deben ser Tiempo vs Ventas."
   ]
  },
  {
   "cell_type": "code",
   "execution_count": 18,
   "metadata": {
    "id": "WefV-3OPfmYs",
    "outputId": "9753288b-4185-41d3-83e9-3845b6c0b784",
    "scrolled": true
   },
   "outputs": [
    {
     "data": {
      "text/html": [
       "<div>\n",
       "<style scoped>\n",
       "    .dataframe tbody tr th:only-of-type {\n",
       "        vertical-align: middle;\n",
       "    }\n",
       "\n",
       "    .dataframe tbody tr th {\n",
       "        vertical-align: top;\n",
       "    }\n",
       "\n",
       "    .dataframe thead th {\n",
       "        text-align: right;\n",
       "    }\n",
       "</style>\n",
       "<table border=\"1\" class=\"dataframe\">\n",
       "  <thead>\n",
       "    <tr style=\"text-align: right;\">\n",
       "      <th></th>\n",
       "      <th>Store</th>\n",
       "      <th>DayOfWeek</th>\n",
       "      <th>Date</th>\n",
       "      <th>Sales</th>\n",
       "      <th>Customers</th>\n",
       "      <th>Open</th>\n",
       "      <th>Promo</th>\n",
       "      <th>StateHoliday</th>\n",
       "      <th>SchoolHoliday</th>\n",
       "    </tr>\n",
       "  </thead>\n",
       "  <tbody>\n",
       "    <tr>\n",
       "      <th>949195</th>\n",
       "      <td>1</td>\n",
       "      <td>6</td>\n",
       "      <td>2013-03-02</td>\n",
       "      <td>5350</td>\n",
       "      <td>678</td>\n",
       "      <td>1</td>\n",
       "      <td>0</td>\n",
       "      <td>0</td>\n",
       "      <td>0</td>\n",
       "    </tr>\n",
       "    <tr>\n",
       "      <th>949196</th>\n",
       "      <td>2</td>\n",
       "      <td>6</td>\n",
       "      <td>2013-03-02</td>\n",
       "      <td>2643</td>\n",
       "      <td>353</td>\n",
       "      <td>1</td>\n",
       "      <td>0</td>\n",
       "      <td>0</td>\n",
       "      <td>0</td>\n",
       "    </tr>\n",
       "    <tr>\n",
       "      <th>949197</th>\n",
       "      <td>3</td>\n",
       "      <td>6</td>\n",
       "      <td>2013-03-02</td>\n",
       "      <td>5037</td>\n",
       "      <td>638</td>\n",
       "      <td>1</td>\n",
       "      <td>0</td>\n",
       "      <td>0</td>\n",
       "      <td>0</td>\n",
       "    </tr>\n",
       "    <tr>\n",
       "      <th>949198</th>\n",
       "      <td>4</td>\n",
       "      <td>6</td>\n",
       "      <td>2013-03-02</td>\n",
       "      <td>10541</td>\n",
       "      <td>1557</td>\n",
       "      <td>1</td>\n",
       "      <td>0</td>\n",
       "      <td>0</td>\n",
       "      <td>0</td>\n",
       "    </tr>\n",
       "    <tr>\n",
       "      <th>949199</th>\n",
       "      <td>5</td>\n",
       "      <td>6</td>\n",
       "      <td>2013-03-02</td>\n",
       "      <td>1939</td>\n",
       "      <td>242</td>\n",
       "      <td>1</td>\n",
       "      <td>0</td>\n",
       "      <td>0</td>\n",
       "      <td>0</td>\n",
       "    </tr>\n",
       "  </tbody>\n",
       "</table>\n",
       "</div>"
      ],
      "text/plain": [
       "        Store  DayOfWeek       Date  Sales  Customers  Open  Promo  \\\n",
       "949195      1          6 2013-03-02   5350        678     1      0   \n",
       "949196      2          6 2013-03-02   2643        353     1      0   \n",
       "949197      3          6 2013-03-02   5037        638     1      0   \n",
       "949198      4          6 2013-03-02  10541       1557     1      0   \n",
       "949199      5          6 2013-03-02   1939        242     1      0   \n",
       "\n",
       "        StateHoliday  SchoolHoliday  \n",
       "949195             0              0  \n",
       "949196             0              0  \n",
       "949197             0              0  \n",
       "949198             0              0  \n",
       "949199             0              0  "
      ]
     },
     "execution_count": 18,
     "metadata": {},
     "output_type": "execute_result"
    }
   ],
   "source": [
    "# Restrinjo el data frame a los primeros 60 dias\n",
    "#fechalimite = min(train[\"Date\"]) + timedelta(days=60)\n",
    "paso1 = train[train['Date'] <= min(train[\"Date\"]) + timedelta(days=60)]\n",
    "# max(paso1[\"Date\"]) Para asegurar\n",
    "paso1.head()"
   ]
  },
  {
   "cell_type": "code",
   "execution_count": 19,
   "metadata": {
    "id": "YCIY1YypfmYs",
    "outputId": "7609bbb9-ab58-4b30-de49-5a716a4c4f6a"
   },
   "outputs": [
    {
     "data": {
      "text/html": [
       "<div>\n",
       "<style scoped>\n",
       "    .dataframe tbody tr th:only-of-type {\n",
       "        vertical-align: middle;\n",
       "    }\n",
       "\n",
       "    .dataframe tbody tr th {\n",
       "        vertical-align: top;\n",
       "    }\n",
       "\n",
       "    .dataframe thead th {\n",
       "        text-align: right;\n",
       "    }\n",
       "</style>\n",
       "<table border=\"1\" class=\"dataframe\">\n",
       "  <thead>\n",
       "    <tr style=\"text-align: right;\">\n",
       "      <th></th>\n",
       "      <th>Date</th>\n",
       "      <th>Sales</th>\n",
       "    </tr>\n",
       "  </thead>\n",
       "  <tbody>\n",
       "    <tr>\n",
       "      <th>0</th>\n",
       "      <td>2013-01-01</td>\n",
       "      <td>87.284560</td>\n",
       "    </tr>\n",
       "    <tr>\n",
       "      <th>1</th>\n",
       "      <td>2013-01-02</td>\n",
       "      <td>6233.030493</td>\n",
       "    </tr>\n",
       "    <tr>\n",
       "      <th>2</th>\n",
       "      <td>2013-01-03</td>\n",
       "      <td>5693.112108</td>\n",
       "    </tr>\n",
       "    <tr>\n",
       "      <th>3</th>\n",
       "      <td>2013-01-04</td>\n",
       "      <td>5954.218834</td>\n",
       "    </tr>\n",
       "    <tr>\n",
       "      <th>4</th>\n",
       "      <td>2013-01-05</td>\n",
       "      <td>5337.751570</td>\n",
       "    </tr>\n",
       "  </tbody>\n",
       "</table>\n",
       "</div>"
      ],
      "text/plain": [
       "        Date        Sales\n",
       "0 2013-01-01    87.284560\n",
       "1 2013-01-02  6233.030493\n",
       "2 2013-01-03  5693.112108\n",
       "3 2013-01-04  5954.218834\n",
       "4 2013-01-05  5337.751570"
      ]
     },
     "execution_count": 19,
     "metadata": {},
     "output_type": "execute_result"
    }
   ],
   "source": [
    "byday = paso1[[\"Date\", \"Sales\"]].groupby(\"Date\", as_index=False).mean()\n",
    "byday.head()"
   ]
  },
  {
   "cell_type": "code",
   "execution_count": 20,
   "metadata": {
    "id": "5EzQ5MtUfmYs",
    "outputId": "07a101c2-ffa0-4a57-c52c-f8b5924e8890"
   },
   "outputs": [
    {
     "data": {
      "text/plain": [
       "Text(0, 0.5, 'Promedio de Ventas')"
      ]
     },
     "execution_count": 20,
     "metadata": {},
     "output_type": "execute_result"
    },
    {
     "data": {
      "image/png": "[encoded data removed]",
      "text/plain": [
       "<Figure size 720x432 with 1 Axes>"
      ]
     },
     "metadata": {
      "needs_background": "light"
     },
     "output_type": "display_data"
    }
   ],
   "source": [
    "fig, ax = plt.subplots(figsize=(10, 6))\n",
    "avgstore = sns.lineplot(data= paso1, x='Date', y='Sales', estimator= 'mean') # Excelente esto\n",
    "plt.title(\"Ventas promedio por dia\") \n",
    "plt.xticks(rotation=90)\n",
    "ax.set_xlabel(\"Fecha\")\n",
    "ax.set_ylabel(\"Promedio de Ventas\")"
   ]
  },
  {
   "cell_type": "markdown",
   "metadata": {
    "id": "woyP8HRGfmYt"
   },
   "source": [
    "### Punto 2\n",
    "Dividir los datos originales en Train y Test. Seleccionar los últimos 10 días para realizar tests sobre el modelo."
   ]
  },
  {
   "cell_type": "code",
   "execution_count": 21,
   "metadata": {
    "id": "a6BaLCRQfmYt"
   },
   "outputs": [],
   "source": [
    "#Parto mi data frame en dos:\n",
    "# Train: todo salvo los ultimos 10 dias\n",
    "# fecha limite = max(train[\"Date\"]) + timedelta(days=-10)\n",
    "df_train = train[\n",
    "    (train[\"Date\"] >= min(train[\"Date\"])) &\n",
    "    (train['Date'] <= max(train[\"Date\"]) + timedelta(days=-10))\n",
    "]\n",
    "iTrain=df_train.index\n",
    "# print(min(df_train[\"Date\"])) # Para asegurar\n",
    "# print(max(df_train[\"Date\"])) # Para asegurar\n",
    "# df_train.head(5)"
   ]
  },
  {
   "cell_type": "code",
   "execution_count": 22,
   "metadata": {
    "id": "SIdKAeP9fmYt"
   },
   "outputs": [],
   "source": [
    "# Parto mi data frame en dos:\n",
    "# Test: ultimos 10 dias\n",
    "# fecha inicial = max(train[\"Date\"]) + timedelta(days=-10)\n",
    "df_test = train[train[\"Date\"] >= max(train[\"Date\"]) + timedelta(days=-10)]\n",
    "iTest=df_test.index\n",
    "# print(min(df_test[\"Date\"])) # Para asegurar\n",
    "# print(max(df_test[\"Date\"])) # Para asegurar"
   ]
  },
  {
   "cell_type": "markdown",
   "metadata": {
    "id": "5stQGyPqfmYt"
   },
   "source": [
    "### Punto 3\n",
    "Seleccione y entrene un modelo de regresión lineal. Justifique brevemente por que eligio dicho modelo."
   ]
  },
  {
   "cell_type": "code",
   "execution_count": 23,
   "metadata": {
    "id": "itAHYGO4fmYu"
   },
   "outputs": [],
   "source": [
    "df2=train.copy()\n",
    "#df2.dtypes\n",
    "\n",
    "#La conviertopara poder escalar\n",
    "df2[\"Date\"]=pd.to_numeric(train[\"Date\"])\n",
    "X_data = df2.to_numpy()\n",
    "\n",
    "\n",
    "st = StandardScaler()\n",
    "X = st.fit_transform(X_data)"
   ]
  },
  {
   "cell_type": "markdown",
   "metadata": {
    "id": "oyO8WmaPfmYu"
   },
   "source": [
    "Antes de entrenar el modelo separo de los Sets de Datos *Train* y *Test* la variable a predecir"
   ]
  },
  {
   "cell_type": "code",
   "execution_count": 24,
   "metadata": {
    "id": "OP0uHdKafmYu"
   },
   "outputs": [],
   "source": [
    "y= X[:,3]\n",
    "X=np.delete(X , 3 , axis=1)\n",
    "\n",
    "X_train =X[iTrain]\n",
    "X_test=X[iTest]\n",
    "y_train=y[iTrain]\n",
    "y_test= y[iTest]"
   ]
  },
  {
   "cell_type": "code",
   "execution_count": 25,
   "metadata": {
    "id": "rVj1RlPufmYu"
   },
   "outputs": [],
   "source": [
    "# Selecciono y entreno con Lasso\n",
    "\n",
    "warnings.filterwarnings(\"ignore\")\n",
    "shrink = np.arange(0., 1., step=0.05)\n",
    "\n",
    "scores = np.zeros(shrink.size)\n",
    "R = []\n",
    "C = []\n",
    "t = KFold(n_splits=5, random_state=0, shuffle=True)\n",
    "betas = np.ndarray(shape=(shrink.size, X.shape[1]))\n",
    "for ii, s in enumerate(shrink):\n",
    "  for tr, te in t.split(X_train):\n",
    "    lin_reg = Lasso(alpha=s)\n",
    "    lin_reg.fit(X_train[tr], y_train[tr])\n",
    "    R.append(lin_reg.score(X_train[te], y_train[te]))\n",
    "    C.append(lin_reg.coef_)\n",
    "  scores[ii] = np.array(R).mean()\n",
    "  betas[ii] = np.asarray(C).mean(axis=0)"
   ]
  },
  {
   "cell_type": "code",
   "execution_count": 26,
   "metadata": {
    "id": "tq79GaX1fmYv",
    "outputId": "ea505223-9f72-4397-f322-9324dff78cb4",
    "scrolled": true
   },
   "outputs": [
    {
     "data": {
      "text/plain": [
       "array([0.8540927 , 0.85105524, 0.84577297, 0.83790823, 0.82733897,\n",
       "       0.8144693 , 0.80043706, 0.7852801 , 0.7693375 , 0.75234648,\n",
       "       0.73413981, 0.71460603, 0.69366794, 0.67127042, 0.64737305,\n",
       "       0.6219455 , 0.59496459, 0.56641229, 0.536601  , 0.50977084])"
      ]
     },
     "execution_count": 26,
     "metadata": {},
     "output_type": "execute_result"
    },
    {
     "data": {
      "image/png": "[encoded data removed]",
      "text/plain": [
       "<Figure size 1368x576 with 2 Axes>"
      ]
     },
     "metadata": {
      "needs_background": "light"
     },
     "output_type": "display_data"
    }
   ],
   "source": [
    "fig = plt.figure(figsize=(19,8))\n",
    "ax = fig.add_subplot(121)\n",
    "ax.plot(shrink, scores, marker='^')\n",
    "ax.set_title('Lasso CV', fontsize=20)\n",
    "ax.set_ylim([0.45, 0.95])\n",
    "ax = fig.add_subplot(122)\n",
    "marks = itertools.cycle(['+', '^', 'D', 'x', 'o'])\n",
    "m = next(marks)\n",
    "df11=train.drop('Sales', axis = 1)\n",
    "for ii,(row, col) in enumerate(zip(betas.T, df11.columns.values)):\n",
    "  if ii > 0 and ii%6:\n",
    "    m = next(marks)\n",
    "  ax.plot(shrink, row, marker=m, label='feat. ' + str(col))\n",
    "# Shrink current axis by 20%\n",
    "box = ax.get_position()\n",
    "ax.set_position([box.x0, box.y0, box.width * 0.8, box.height])\n",
    "# Put a legend to the right of the current axis\n",
    "ax.legend(loc='center left', bbox_to_anchor=(1, 0.5), fontsize=16)\n",
    "ax.set_title('Lasso betas', fontsize=20)\n",
    "scores"
   ]
  },
  {
   "cell_type": "markdown",
   "metadata": {},
   "source": [
    "Para lambda = 0 se obtiene el mejor score."
   ]
  },
  {
   "cell_type": "code",
   "execution_count": 27,
   "metadata": {
    "id": "87WL8sxSfmYv",
    "outputId": "7083ebf8-76c0-4038-863c-1fb2231f4508",
    "scrolled": true
   },
   "outputs": [
    {
     "name": "stdout",
     "output_type": "stream",
     "text": [
      "Train score: 0.8540981768947521\n",
      "Test score: 0.8037396969213595\n"
     ]
    }
   ],
   "source": [
    "lin_reg = Lasso(alpha=0.00)\n",
    "lin_reg.fit(X_train, y_train)\n",
    "y_te_lasso = lin_reg.predict(X_test)\n",
    "\n",
    "print('Train score: ' + str(lin_reg.score(X_train, y_train)))\n",
    "print('Test score: ' + str(lin_reg.score(X_test, y_test)))"
   ]
  },
  {
   "cell_type": "code",
   "execution_count": 28,
   "metadata": {
    "id": "juz7djAffmYw",
    "outputId": "0086d7c8-4560-4519-af96-ad5d342deb41"
   },
   "outputs": [
    {
     "data": {
      "text/plain": [
       "array([0.8540927 , 0.8540927 , 0.8540927 , 0.8540927 , 0.8540927 ,\n",
       "       0.85409267, 0.85409236, 0.85408934, 0.85406039, 0.85380768,\n",
       "       0.85208685, 0.84438526, 0.82251403, 0.78426095, 0.73913828,\n",
       "       0.6951021 , 0.65483353, 0.6186293 , 0.58611935, 0.5568273 ])"
      ]
     },
     "execution_count": 28,
     "metadata": {},
     "output_type": "execute_result"
    }
   ],
   "source": [
    "# Selecciono y entreno con Ridge\n",
    "\n",
    "shrink = 10**np.linspace(0., 10., num=20)\n",
    "#shrink = np.arange(0., 1., step=0.05)\n",
    "scores = np.zeros(shrink.size)\n",
    "R = []\n",
    "C = []\n",
    "t = KFold(n_splits=5, random_state=0, shuffle=True)\n",
    "betas = np.ndarray(shape=(shrink.size, X.shape[1]))\n",
    "for ii, s in enumerate(shrink):\n",
    "  for tr, te in t.split(X_train):\n",
    "    lin_reg = Ridge(alpha=s)\n",
    "    lin_reg.fit(X_train[tr], y_train[tr])\n",
    "    R.append(lin_reg.score(X_train[te], y_train[te]))\n",
    "    C.append(lin_reg.coef_)\n",
    "  scores[ii] = np.array(R).mean()\n",
    "  betas[ii] = np.asarray(C).mean(axis=0)\n",
    "scores"
   ]
  },
  {
   "cell_type": "code",
   "execution_count": 29,
   "metadata": {
    "id": "pfbX1d1wfmYw",
    "outputId": "a14b108e-7554-45d2-cd1c-85b43a47d6e0",
    "scrolled": true
   },
   "outputs": [
    {
     "data": {
      "image/png": "[encoded data removed]",
      "text/plain": [
       "<Figure size 1152x576 with 2 Axes>"
      ]
     },
     "metadata": {
      "needs_background": "light"
     },
     "output_type": "display_data"
    }
   ],
   "source": [
    "fig = plt.figure(figsize=(16,8))\n",
    "ax = fig.add_subplot(121)\n",
    "ax.plot(np.log10(shrink), scores, marker='^')\n",
    "ax.set_title('Ridge CV', fontsize=20)\n",
    "ax.set_ylim([0.75, 0.95])\n",
    "ax = fig.add_subplot(122)\n",
    "marks = itertools.cycle(['+', '^', 'D', 'x', 'o'])\n",
    "m = next(marks)\n",
    "for row, col in zip(betas.T, df11.columns.values):\n",
    "  if ii > 0 and ii%6:\n",
    "    m = next(marks)\n",
    "  ax.plot(np.log10(shrink), row, marker=next(marks), label='feat. ' + str(col))\n",
    "# Shrink current axis by 20%\n",
    "box = ax.get_position()\n",
    "ax.set_position([box.x0, box.y0, box.width * 0.8, box.height])\n",
    "ax.set_title('Ridge betas', fontsize=20)\n",
    "# Put a legend to the right of the current axis\n",
    "_ = ax.legend(loc='center left', bbox_to_anchor=(1, 0.5), fontsize=16)"
   ]
  },
  {
   "cell_type": "markdown",
   "metadata": {},
   "source": [
    "Con Ridge se obtiene el mismo resultado que con Lasso. El mejor score se obtiene para los parametros de penalizacion = 0."
   ]
  },
  {
   "cell_type": "code",
   "execution_count": 30,
   "metadata": {
    "id": "3Qn99BQafmYw",
    "outputId": "0811c269-00eb-4f67-e33b-212b5050db1e"
   },
   "outputs": [
    {
     "name": "stdout",
     "output_type": "stream",
     "text": [
      "Train score: 0.8540981768947522\n",
      "Test score: 0.8037396969212738\n"
     ]
    }
   ],
   "source": [
    "lin_reg = Ridge(alpha=0)\n",
    "lin_reg.fit(X_train, y_train)\n",
    "y_te_ridge = lin_reg.predict(X_test)\n",
    "\n",
    "print('Train score: ' + str(lin_reg.score(X_train, y_train)))\n",
    "print('Test score: ' + str(lin_reg.score(X_test, y_test)))"
   ]
  },
  {
   "cell_type": "markdown",
   "metadata": {
    "id": "ASJpXGJpfmYx"
   },
   "source": [
    "Logicamente, ambos dan lo mismo, puesto que en ambos modelos se seleccionaron parametros de penalizacion iguales a 0. En definitiva, es una regresion de minimos cuadrados. Esto es válido si el set de datos tiene poca varianza. Se utilizara entonces la salida de y_te_lasso."
   ]
  },
  {
   "cell_type": "code",
   "execution_count": 31,
   "metadata": {},
   "outputs": [],
   "source": [
    "df_test.set_index('Date', inplace=True)\n",
    "df_train.set_index('Date', inplace=True)\n",
    "\n",
    "# TRAIN\n",
    "# Con esto obtengo un array de 1*n dimensiones, con la variable a predecir\n",
    "y_train = df_train[\"Sales\"]\n",
    "# Y acá solo me queda en el df las variables que explican y\n",
    "x_train =df_train.drop(['Sales'], axis=1)\n",
    "#x_train.head()\n",
    "\n",
    "# TEST\n",
    "# Con esto obtengo un array de 1*n dimensiones, con la variable a predecir\n",
    "y_test = df_test['Sales']\n",
    "# Y acá solo me queda en el df las variables que explican y\n",
    "x_test =df_test.drop(['Sales'], axis=1)"
   ]
  },
  {
   "cell_type": "code",
   "execution_count": 32,
   "metadata": {},
   "outputs": [
    {
     "name": "stdout",
     "output_type": "stream",
     "text": [
      "MAE: -974.752\n",
      "Config: {'alpha': 0.04}\n"
     ]
    }
   ],
   "source": [
    "# define model\n",
    "model = Lasso(normalize=True) #al utilizar normalize=True evitamos estandarizar el set de datos previamente\n",
    "# define model evaluation method\n",
    "cv = RepeatedKFold(n_splits=5, n_repeats=3, random_state=0)\n",
    "# define grid\n",
    "grid = dict()\n",
    "grid['alpha'] = np.arange(0, 1, 0.01)\n",
    "# define search\n",
    "search = GridSearchCV(model, grid, scoring='neg_mean_absolute_error', cv=cv, n_jobs=-1)\n",
    "# perform the search\n",
    "results = search.fit(x_train, y_train)\n",
    "# summarize\n",
    "print('MAE: %.3f' % results.best_score_)\n",
    "print('Config: %s' % results.best_params_)"
   ]
  },
  {
   "cell_type": "code",
   "execution_count": 33,
   "metadata": {},
   "outputs": [],
   "source": [
    "# Seleccionamos Lasso entonces con alpha = 0\n",
    "lin_reg = Lasso(alpha=0.0)\n",
    "lin_reg.fit(x_train, y_train)\n",
    "y_prediccion = lin_reg.predict(x_test)"
   ]
  },
  {
   "cell_type": "markdown",
   "metadata": {
    "id": "pUW2ZAWYfmYz"
   },
   "source": [
    "### Punto 4\n",
    "Considere que la variable open = 0, implica y = 0. Realice nuevamente el punto 3 y compare los resultados. Comente, brevemente e informe los scores del modelo."
   ]
  },
  {
   "cell_type": "code",
   "execution_count": 34,
   "metadata": {
    "id": "NWlVvpHifmYz",
    "outputId": "a18e9d95-7c5c-4426-a2e7-695aa65ede01"
   },
   "outputs": [
    {
     "data": {
      "text/html": [
       "<div>\n",
       "<style scoped>\n",
       "    .dataframe tbody tr th:only-of-type {\n",
       "        vertical-align: middle;\n",
       "    }\n",
       "\n",
       "    .dataframe tbody tr th {\n",
       "        vertical-align: top;\n",
       "    }\n",
       "\n",
       "    .dataframe thead th {\n",
       "        text-align: right;\n",
       "    }\n",
       "</style>\n",
       "<table border=\"1\" class=\"dataframe\">\n",
       "  <thead>\n",
       "    <tr style=\"text-align: right;\">\n",
       "      <th></th>\n",
       "      <th>Store</th>\n",
       "      <th>DayOfWeek</th>\n",
       "      <th>Date</th>\n",
       "      <th>Sales</th>\n",
       "      <th>Customers</th>\n",
       "      <th>Open</th>\n",
       "      <th>Promo</th>\n",
       "      <th>StateHoliday</th>\n",
       "      <th>SchoolHoliday</th>\n",
       "    </tr>\n",
       "  </thead>\n",
       "  <tbody>\n",
       "  </tbody>\n",
       "</table>\n",
       "</div>"
      ],
      "text/plain": [
       "Empty DataFrame\n",
       "Columns: [Store, DayOfWeek, Date, Sales, Customers, Open, Promo, StateHoliday, SchoolHoliday]\n",
       "Index: []"
      ]
     },
     "execution_count": 34,
     "metadata": {},
     "output_type": "execute_result"
    }
   ],
   "source": [
    "# Veamos si hay algun registro donde Open == 0 y Sales != 0\n",
    "train_sales = train.loc[(train.Open == 0)]\n",
    "train_sales.loc[(train.Sales != 0)]"
   ]
  },
  {
   "cell_type": "markdown",
   "metadata": {
    "id": "96OZ9CbGfmYz"
   },
   "source": [
    "No hay registros. Si hubiese registros, se deberia aplicar esta funcion: train.where(lambda open: open == 0, lambda sales: 0)"
   ]
  },
  {
   "cell_type": "code",
   "execution_count": 35,
   "metadata": {},
   "outputs": [],
   "source": [
    "#Genero un nuevo subset con los campos open == 1, que es donde voy a entrenar\n",
    "df3 = train[train['Open'] == 1]"
   ]
  },
  {
   "cell_type": "code",
   "execution_count": 36,
   "metadata": {},
   "outputs": [
    {
     "name": "stdout",
     "output_type": "stream",
     "text": [
      "<class 'pandas.core.frame.DataFrame'>\n",
      "Int64Index: 844392 entries, 0 to 1017190\n",
      "Data columns (total 9 columns):\n",
      " #   Column         Non-Null Count   Dtype         \n",
      "---  ------         --------------   -----         \n",
      " 0   Store          844392 non-null  int64         \n",
      " 1   DayOfWeek      844392 non-null  int64         \n",
      " 2   Date           844392 non-null  datetime64[ns]\n",
      " 3   Sales          844392 non-null  int64         \n",
      " 4   Customers      844392 non-null  int64         \n",
      " 5   Open           844392 non-null  int64         \n",
      " 6   Promo          844392 non-null  int64         \n",
      " 7   StateHoliday   844392 non-null  int64         \n",
      " 8   SchoolHoliday  844392 non-null  int64         \n",
      "dtypes: datetime64[ns](1), int64(8)\n",
      "memory usage: 64.4 MB\n"
     ]
    }
   ],
   "source": [
    "df3['Date'] = pd.to_datetime(df3['Date'], format=\"%Y/%m/%d\")\n",
    "df3.info()"
   ]
  },
  {
   "cell_type": "code",
   "execution_count": 37,
   "metadata": {
    "id": "kG-W3r7lfmYz"
   },
   "outputs": [],
   "source": [
    "#El nuevo subset tiene 844.392 registros contra los 1.017.209\n",
    "#Genero nuevos sets de train y test\n",
    "\n",
    "# fecha limite = max(train[\"Date\"]) + timedelta(days=-10)\n",
    "df_train2 = df3[\n",
    "    (df3[\"Date\"] >= min(df3[\"Date\"])) &\n",
    "    (df3['Date'] < max(df3[\"Date\"]) + timedelta(days=-10))\n",
    "]\n",
    "#iTrain=df_train.index\n",
    "\n",
    "# Parto mi data frame en dos:\n",
    "# Test: ultimos 10 dias\n",
    "# fecha inicial = max(train[\"Date\"]) + timedelta(days=-10)\n",
    "df_test2 = df3[\n",
    "    (df3[\"Date\"] <= max(df3[\"Date\"])) &\n",
    "    (df3[\"Date\"] >= max(df3[\"Date\"]) + timedelta(days=-10))]\n",
    "#iTest=df_test.index\n",
    "# print(min(df_test[\"Date\"])) # Para asegurar\n",
    "# print(max(df_test[\"Date\"])) # Para asegura"
   ]
  },
  {
   "cell_type": "code",
   "execution_count": 38,
   "metadata": {},
   "outputs": [],
   "source": [
    "df_test2.set_index('Date', inplace=True)\n",
    "df_train2.set_index('Date', inplace=True)"
   ]
  },
  {
   "cell_type": "code",
   "execution_count": 39,
   "metadata": {},
   "outputs": [],
   "source": [
    "# TRAIN\n",
    "# Con esto obtengo un array de 1*n dimensiones, con la variable a predecir\n",
    "y_train2 = df_train2[\"Sales\"]\n",
    "# Y acá solo me queda en el df las variables que explican y\n",
    "x_train2 =df_train2.drop(['Sales'], axis=1)\n",
    "#x_train.head()\n",
    "\n",
    "\n",
    "# TEST\n",
    "# Con esto obtengo un array de 1*n dimensiones, con la variable a predecir\n",
    "y_test2 = df_test2['Sales']\n",
    "# Y acá solo me queda en el df las variables que explican y\n",
    "x_test2 =df_test2.drop(['Sales'], axis=1)"
   ]
  },
  {
   "cell_type": "code",
   "execution_count": 40,
   "metadata": {},
   "outputs": [
    {
     "name": "stdout",
     "output_type": "stream",
     "text": [
      "MAE: -1153.027\n",
      "Config: {'alpha': 0.0}\n"
     ]
    }
   ],
   "source": [
    "# define model\n",
    "model = Lasso(normalize=True) #al utilizar normalize=True evitamos estandarizar el set de datos previamente\n",
    "# define model evaluation method\n",
    "cv = RepeatedKFold(n_splits=5, n_repeats=3, random_state=0)\n",
    "# define grid\n",
    "grid = dict()\n",
    "grid['alpha'] = np.arange(0, 1, 0.01)\n",
    "# define search\n",
    "search = GridSearchCV(model, grid, scoring='neg_mean_absolute_error', cv=cv, n_jobs=-1)\n",
    "# perform the search\n",
    "results = search.fit(x_train2, y_train2)\n",
    "# summarize\n",
    "print('MAE: %.3f' % results.best_score_)\n",
    "print('Config: %s' % results.best_params_)"
   ]
  },
  {
   "cell_type": "code",
   "execution_count": 41,
   "metadata": {},
   "outputs": [],
   "source": [
    "#El MAE del método seleccionado está calculado sobre los registros de train con la condición Open==1.Ahora bien, \n",
    "#si quisieramos calcular el MAE del modelo completo, considerando que Open==0 => y=0, la suma de los errores absolutos\n",
    "# se mantiene constante, pues el error para Open==0  es cero. De esta forma, ajustando el n de cáculo, se puede obtener un MAE\n",
    "#comparable con el del punto 3.\n"
   ]
  },
  {
   "cell_type": "code",
   "execution_count": 42,
   "metadata": {},
   "outputs": [
    {
     "data": {
      "text/plain": [
       "1006059"
      ]
     },
     "execution_count": 42,
     "metadata": {},
     "output_type": "execute_result"
    }
   ],
   "source": [
    "N= len(df_train.index) # largo de matriz original de train\n",
    "N"
   ]
  },
  {
   "cell_type": "code",
   "execution_count": 43,
   "metadata": {},
   "outputs": [
    {
     "data": {
      "text/plain": [
       "833230"
      ]
     },
     "execution_count": 43,
     "metadata": {},
     "output_type": "execute_result"
    }
   ],
   "source": [
    "n= len(df_train2.index) # largo de matriz reducida de train\n",
    "n"
   ]
  },
  {
   "cell_type": "code",
   "execution_count": null,
   "metadata": {},
   "outputs": [],
   "source": []
  },
  {
   "cell_type": "code",
   "execution_count": 44,
   "metadata": {},
   "outputs": [],
   "source": [
    "##Factor de corrección del MAE = n/N\n",
    "FC=n/N"
   ]
  },
  {
   "cell_type": "code",
   "execution_count": 45,
   "metadata": {},
   "outputs": [
    {
     "data": {
      "text/plain": [
       "-954.9481566389246"
      ]
     },
     "execution_count": 45,
     "metadata": {},
     "output_type": "execute_result"
    }
   ],
   "source": [
    "#Nuevo MAE\n",
    "MAE= -1153.024*FC\n",
    "MAE"
   ]
  },
  {
   "cell_type": "code",
   "execution_count": 46,
   "metadata": {},
   "outputs": [],
   "source": [
    "#Vemos que el error del nuevo modelo es de -954 contra los -979 del primer modelo, mejorando un 3% el resultado"
   ]
  },
  {
   "cell_type": "code",
   "execution_count": 47,
   "metadata": {},
   "outputs": [],
   "source": [
    " #train.where(lambda open: open == 0, lambda sales: 0)"
   ]
  },
  {
   "cell_type": "markdown",
   "metadata": {
    "id": "HFjrqas8fmYz"
   },
   "source": [
    "### Punto 5\n",
    "Predicción sobre los datos de test. Genere un plot que contraste las ventas verdaderas contra las ventas predichas por el modelo vs. la fecha. Realice esto con el promedio de ventas por día y para las tiendas 1 y 100"
   ]
  },
  {
   "cell_type": "code",
   "execution_count": 48,
   "metadata": {
    "id": "C03V2tFmfmY0"
   },
   "outputs": [],
   "source": [
    "# Preparar df prediccion\n",
    "df_pred = pd.DataFrame(y_prediccion)\n",
    "df_pred.set_axis(['sales_prediction'], axis='columns', inplace=True)\n",
    "df_test.reset_index(inplace=True)\n",
    "fechas_y_store = df_test[[\"Date\", \"DayOfWeek\", \"Store\"]]\n",
    "df_prediccion = pd.concat([fechas_y_store, df_pred], axis=1)"
   ]
  },
  {
   "cell_type": "markdown",
   "metadata": {
    "id": "EQl4YjNGfmY0"
   },
   "source": [
    "Promedio de ventas por dia"
   ]
  },
  {
   "cell_type": "code",
   "execution_count": 49,
   "metadata": {
    "id": "RCoolK0OfmY0",
    "outputId": "6c90033d-e148-4c8e-f356-b4dd291d47c7"
   },
   "outputs": [
    {
     "data": {
      "text/plain": [
       "Text(0, 0.5, 'Promedio de Ventas')"
      ]
     },
     "execution_count": 49,
     "metadata": {},
     "output_type": "execute_result"
    },
    {
     "data": {
      "image/png": "[encoded data removed]",
      "text/plain": [
       "<Figure size 720x432 with 1 Axes>"
      ]
     },
     "metadata": {
      "needs_background": "light"
     },
     "output_type": "display_data"
    }
   ],
   "source": [
    "fig, ax = plt.subplots(figsize=(10, 6))\n",
    "avgpred = sns.lineplot(data= df_prediccion, x='Date', y='sales_prediction', estimator= 'mean')\n",
    "avgtest = sns.lineplot(data= df_test, x='Date', y='Sales', estimator= 'mean')\n",
    "plt.title(\"Ventas promedio por dia, todas las tiendas\") \n",
    "plt.xticks(rotation=90)\n",
    "ax.set_xlabel(\"Fecha\")\n",
    "ax.set_ylabel(\"Promedio de Ventas\")"
   ]
  },
  {
   "cell_type": "markdown",
   "metadata": {
    "id": "BsbeVkiLfmY0"
   },
   "source": [
    "Tienda 1"
   ]
  },
  {
   "cell_type": "code",
   "execution_count": 50,
   "metadata": {
    "id": "p-kbWDh3fmY1"
   },
   "outputs": [],
   "source": [
    "onlyStore1_pred = df_prediccion[df_prediccion['Store'] == 1]\n",
    "#byDOW_pred = onlyStore1_pred[[\"DayOfWeek\", \"sales_prediction\"]].groupby(['DayOfWeek']).mean() # Si usamos sns no hace falta\n",
    "\n",
    "onlyStore1_test = df_test[df_test['Store'] == 1]\n",
    "#byDOW_test = onlyStore1[[\"DayOfWeek\", \"Sales\"]].groupby(['DayOfWeek']).mean() # Si usamos sns no hace falta"
   ]
  },
  {
   "cell_type": "code",
   "execution_count": 51,
   "metadata": {
    "id": "1uJ40Hg3fmY1",
    "outputId": "233a56b1-d5f5-44ff-96f5-a012ae22fda9"
   },
   "outputs": [
    {
     "data": {
      "text/plain": [
       "Text(0, 0.5, 'Ventas')"
      ]
     },
     "execution_count": 51,
     "metadata": {},
     "output_type": "execute_result"
    },
    {
     "data": {
      "image/png": "[encoded data removed]",
      "text/plain": [
       "<Figure size 720x432 with 1 Axes>"
      ]
     },
     "metadata": {
      "needs_background": "light"
     },
     "output_type": "display_data"
    }
   ],
   "source": [
    "fig, ax = plt.subplots(figsize=(10, 6))\n",
    "avgpred = sns.lineplot(data= onlyStore1_pred, x='Date', y='sales_prediction', estimator= 'mean')\n",
    "avgtest = sns.lineplot(data= onlyStore1_test, x='Date', y='Sales', estimator= 'mean')\n",
    "plt.title(\"Ventas Store 1\") \n",
    "plt.xticks(rotation=90)\n",
    "ax.set_xlabel(\"Fecha\")\n",
    "ax.set_ylabel(\"Ventas\")"
   ]
  },
  {
   "cell_type": "markdown",
   "metadata": {
    "id": "MYGYmsNEfmY1"
   },
   "source": [
    "Tienda 100"
   ]
  },
  {
   "cell_type": "code",
   "execution_count": 52,
   "metadata": {
    "id": "n2H7e_x7fmY1"
   },
   "outputs": [],
   "source": [
    "onlyStore100_pred = df_prediccion[df_prediccion['Store'] == 100]\n",
    "onlyStore100_test = df_test[df_test['Store'] == 100]"
   ]
  },
  {
   "cell_type": "code",
   "execution_count": 53,
   "metadata": {
    "id": "addU3cfefmY1",
    "outputId": "cfe99ef8-4b6d-49ef-d31b-b3fb85a8b9fb"
   },
   "outputs": [
    {
     "data": {
      "text/plain": [
       "Text(0, 0.5, 'Ventas')"
      ]
     },
     "execution_count": 53,
     "metadata": {},
     "output_type": "execute_result"
    },
    {
     "data": {
      "image/png": "[encoded data removed]",
      "text/plain": [
       "<Figure size 720x432 with 1 Axes>"
      ]
     },
     "metadata": {
      "needs_background": "light"
     },
     "output_type": "display_data"
    }
   ],
   "source": [
    "fig, ax = plt.subplots(figsize=(10, 6))\n",
    "avgpred = sns.lineplot(data= onlyStore100_pred, x='Date', y='sales_prediction')\n",
    "avgtest = sns.lineplot(data= onlyStore100_test, x='Date', y='Sales')\n",
    "plt.title(\"Ventas Store 100\") \n",
    "plt.xticks(rotation=90)\n",
    "ax.set_xlabel(\"Fecha\")\n",
    "ax.set_ylabel(\"Ventas\")"
   ]
  },
  {
   "cell_type": "markdown",
   "metadata": {
    "id": "ENSApUoDfmY2"
   },
   "source": [
    "### Punto 6 (Opcional)\n",
    "Utilizar las variables “Assortment” y “StoreType del archivo Rossman_store.csv para separar los datos y construir múltiples modelos de predicción. Por ejemplo Assortment=a y StoreType=a , da lugar a la clase 1 y Assortment=a y StoreType=b da lugar a la clase 2. La idea es considerar ambas variables para generar una clase. Posteriormente se dividen los datos acorde a estas clases y se crean modelos. Como ayuda se da el siguiente dato: se pueden crear 9 modelos en total. Recordar separar datos en train y test según la fecha."
   ]
  },
  {
   "cell_type": "code",
   "execution_count": 58,
   "metadata": {
    "id": "fxRf5-n5fmY2",
    "outputId": "82c6f404-78fc-4a30-8fb5-e1497c667ac6"
   },
   "outputs": [
    {
     "data": {
      "text/html": [
       "<div>\n",
       "<style scoped>\n",
       "    .dataframe tbody tr th:only-of-type {\n",
       "        vertical-align: middle;\n",
       "    }\n",
       "\n",
       "    .dataframe tbody tr th {\n",
       "        vertical-align: top;\n",
       "    }\n",
       "\n",
       "    .dataframe thead th {\n",
       "        text-align: right;\n",
       "    }\n",
       "</style>\n",
       "<table border=\"1\" class=\"dataframe\">\n",
       "  <thead>\n",
       "    <tr style=\"text-align: right;\">\n",
       "      <th></th>\n",
       "      <th>Store</th>\n",
       "      <th>StoreType</th>\n",
       "      <th>Assortment</th>\n",
       "      <th>CompetitionDistance</th>\n",
       "      <th>CompetitionOpenSinceMonth</th>\n",
       "      <th>CompetitionOpenSinceYear</th>\n",
       "      <th>Promo2</th>\n",
       "      <th>Promo2SinceWeek</th>\n",
       "      <th>Promo2SinceYear</th>\n",
       "      <th>PromoInterval</th>\n",
       "    </tr>\n",
       "  </thead>\n",
       "  <tbody>\n",
       "    <tr>\n",
       "      <th>0</th>\n",
       "      <td>1</td>\n",
       "      <td>c</td>\n",
       "      <td>a</td>\n",
       "      <td>1270.0</td>\n",
       "      <td>9.0</td>\n",
       "      <td>2008.0</td>\n",
       "      <td>0</td>\n",
       "      <td>NaN</td>\n",
       "      <td>NaN</td>\n",
       "      <td>NaN</td>\n",
       "    </tr>\n",
       "    <tr>\n",
       "      <th>1</th>\n",
       "      <td>2</td>\n",
       "      <td>a</td>\n",
       "      <td>a</td>\n",
       "      <td>570.0</td>\n",
       "      <td>11.0</td>\n",
       "      <td>2007.0</td>\n",
       "      <td>1</td>\n",
       "      <td>13.0</td>\n",
       "      <td>2010.0</td>\n",
       "      <td>Jan,Apr,Jul,Oct</td>\n",
       "    </tr>\n",
       "    <tr>\n",
       "      <th>2</th>\n",
       "      <td>3</td>\n",
       "      <td>a</td>\n",
       "      <td>a</td>\n",
       "      <td>14130.0</td>\n",
       "      <td>12.0</td>\n",
       "      <td>2006.0</td>\n",
       "      <td>1</td>\n",
       "      <td>14.0</td>\n",
       "      <td>2011.0</td>\n",
       "      <td>Jan,Apr,Jul,Oct</td>\n",
       "    </tr>\n",
       "    <tr>\n",
       "      <th>3</th>\n",
       "      <td>4</td>\n",
       "      <td>c</td>\n",
       "      <td>c</td>\n",
       "      <td>620.0</td>\n",
       "      <td>9.0</td>\n",
       "      <td>2009.0</td>\n",
       "      <td>0</td>\n",
       "      <td>NaN</td>\n",
       "      <td>NaN</td>\n",
       "      <td>NaN</td>\n",
       "    </tr>\n",
       "    <tr>\n",
       "      <th>4</th>\n",
       "      <td>5</td>\n",
       "      <td>a</td>\n",
       "      <td>a</td>\n",
       "      <td>29910.0</td>\n",
       "      <td>4.0</td>\n",
       "      <td>2015.0</td>\n",
       "      <td>0</td>\n",
       "      <td>NaN</td>\n",
       "      <td>NaN</td>\n",
       "      <td>NaN</td>\n",
       "    </tr>\n",
       "    <tr>\n",
       "      <th>5</th>\n",
       "      <td>6</td>\n",
       "      <td>a</td>\n",
       "      <td>a</td>\n",
       "      <td>310.0</td>\n",
       "      <td>12.0</td>\n",
       "      <td>2013.0</td>\n",
       "      <td>0</td>\n",
       "      <td>NaN</td>\n",
       "      <td>NaN</td>\n",
       "      <td>NaN</td>\n",
       "    </tr>\n",
       "    <tr>\n",
       "      <th>6</th>\n",
       "      <td>7</td>\n",
       "      <td>a</td>\n",
       "      <td>c</td>\n",
       "      <td>24000.0</td>\n",
       "      <td>4.0</td>\n",
       "      <td>2013.0</td>\n",
       "      <td>0</td>\n",
       "      <td>NaN</td>\n",
       "      <td>NaN</td>\n",
       "      <td>NaN</td>\n",
       "    </tr>\n",
       "    <tr>\n",
       "      <th>7</th>\n",
       "      <td>8</td>\n",
       "      <td>a</td>\n",
       "      <td>a</td>\n",
       "      <td>7520.0</td>\n",
       "      <td>10.0</td>\n",
       "      <td>2014.0</td>\n",
       "      <td>0</td>\n",
       "      <td>NaN</td>\n",
       "      <td>NaN</td>\n",
       "      <td>NaN</td>\n",
       "    </tr>\n",
       "    <tr>\n",
       "      <th>8</th>\n",
       "      <td>9</td>\n",
       "      <td>a</td>\n",
       "      <td>c</td>\n",
       "      <td>2030.0</td>\n",
       "      <td>8.0</td>\n",
       "      <td>2000.0</td>\n",
       "      <td>0</td>\n",
       "      <td>NaN</td>\n",
       "      <td>NaN</td>\n",
       "      <td>NaN</td>\n",
       "    </tr>\n",
       "    <tr>\n",
       "      <th>9</th>\n",
       "      <td>10</td>\n",
       "      <td>a</td>\n",
       "      <td>a</td>\n",
       "      <td>3160.0</td>\n",
       "      <td>9.0</td>\n",
       "      <td>2009.0</td>\n",
       "      <td>0</td>\n",
       "      <td>NaN</td>\n",
       "      <td>NaN</td>\n",
       "      <td>NaN</td>\n",
       "    </tr>\n",
       "  </tbody>\n",
       "</table>\n",
       "</div>"
      ],
      "text/plain": [
       "   Store StoreType Assortment  CompetitionDistance  CompetitionOpenSinceMonth  \\\n",
       "0      1         c          a               1270.0                        9.0   \n",
       "1      2         a          a                570.0                       11.0   \n",
       "2      3         a          a              14130.0                       12.0   \n",
       "3      4         c          c                620.0                        9.0   \n",
       "4      5         a          a              29910.0                        4.0   \n",
       "5      6         a          a                310.0                       12.0   \n",
       "6      7         a          c              24000.0                        4.0   \n",
       "7      8         a          a               7520.0                       10.0   \n",
       "8      9         a          c               2030.0                        8.0   \n",
       "9     10         a          a               3160.0                        9.0   \n",
       "\n",
       "   CompetitionOpenSinceYear  Promo2  Promo2SinceWeek  Promo2SinceYear  \\\n",
       "0                    2008.0       0              NaN              NaN   \n",
       "1                    2007.0       1             13.0           2010.0   \n",
       "2                    2006.0       1             14.0           2011.0   \n",
       "3                    2009.0       0              NaN              NaN   \n",
       "4                    2015.0       0              NaN              NaN   \n",
       "5                    2013.0       0              NaN              NaN   \n",
       "6                    2013.0       0              NaN              NaN   \n",
       "7                    2014.0       0              NaN              NaN   \n",
       "8                    2000.0       0              NaN              NaN   \n",
       "9                    2009.0       0              NaN              NaN   \n",
       "\n",
       "     PromoInterval  \n",
       "0              NaN  \n",
       "1  Jan,Apr,Jul,Oct  \n",
       "2  Jan,Apr,Jul,Oct  \n",
       "3              NaN  \n",
       "4              NaN  \n",
       "5              NaN  \n",
       "6              NaN  \n",
       "7              NaN  \n",
       "8              NaN  \n",
       "9              NaN  "
      ]
     },
     "execution_count": 58,
     "metadata": {},
     "output_type": "execute_result"
    }
   ],
   "source": [
    "rs = pd.read_csv(\"C:/Users/pbeltramino/Desktop/MGCD/DMA/Tarea_1/Rossman_store.csv\")\n",
    "#\"C:/Users/mavila/Desktop/MDGC/DM avanzado/Tareas/Tarea1/Rossman_store.csv\" MELI\n",
    "# \"C:/Users/georg/Desktop/Maestria/DMA/Rossman/Rossman_store.csv\" GEORGI\n",
    "# \"C:/Users/pbonet/Desktop/DMA/Tarea1/Rossman_originales/Rossman_store.csv\" PAU \n",
    "rs.head(10)"
   ]
  },
  {
   "cell_type": "code",
   "execution_count": 59,
   "metadata": {
    "id": "L1HwUDUdfmY2",
    "outputId": "29d596f8-0ca0-48b4-c441-865ae6225351"
   },
   "outputs": [
    {
     "data": {
      "text/plain": [
       "Store                          int64\n",
       "StoreType                     object\n",
       "Assortment                    object\n",
       "CompetitionDistance          float64\n",
       "CompetitionOpenSinceMonth    float64\n",
       "CompetitionOpenSinceYear     float64\n",
       "Promo2                         int64\n",
       "Promo2SinceWeek              float64\n",
       "Promo2SinceYear              float64\n",
       "PromoInterval                 object\n",
       "dtype: object"
      ]
     },
     "execution_count": 59,
     "metadata": {},
     "output_type": "execute_result"
    }
   ],
   "source": [
    "rs.dtypes"
   ]
  },
  {
   "cell_type": "code",
   "execution_count": 60,
   "metadata": {
    "id": "BrASYGkNfmY2"
   },
   "outputs": [],
   "source": [
    "# Por prolijidad convertimos a Assortment y a StoreType en variables categoricas\n",
    "rs[\"Assortment\"] = rs[\"Assortment\"].astype(\"category\")\n",
    "rs[\"StoreType\"] = rs[\"StoreType\"].astype(\"category\")\n",
    "# Corroboramos\n",
    "# rs.dtypes"
   ]
  },
  {
   "cell_type": "code",
   "execution_count": 61,
   "metadata": {
    "id": "0GGthcpafmY3",
    "outputId": "574557e4-978a-405b-89e8-024aefd3c1a7"
   },
   "outputs": [
    {
     "data": {
      "text/plain": [
       "a    593\n",
       "c    513\n",
       "b      9\n",
       "Name: Assortment, dtype: int64"
      ]
     },
     "execution_count": 61,
     "metadata": {},
     "output_type": "execute_result"
    }
   ],
   "source": [
    "# Valores posibles de Assortmen\n",
    "rs[\"Assortment\"].value_counts()"
   ]
  },
  {
   "cell_type": "code",
   "execution_count": 62,
   "metadata": {
    "id": "sWbYi6UQfmY3",
    "outputId": "e27d8320-18ae-424c-c4a4-f2ab4e56be0a"
   },
   "outputs": [
    {
     "data": {
      "text/plain": [
       "a    602\n",
       "d    348\n",
       "c    148\n",
       "b     17\n",
       "Name: StoreType, dtype: int64"
      ]
     },
     "execution_count": 62,
     "metadata": {},
     "output_type": "execute_result"
    }
   ],
   "source": [
    "# Valores posibles de StoreType\n",
    "rs[\"StoreType\"].value_counts()"
   ]
  },
  {
   "cell_type": "code",
   "execution_count": 63,
   "metadata": {
    "id": "losgyD2PfmY3"
   },
   "outputs": [],
   "source": [
    "# Feature Engineering\n",
    "# Creamos la variable \"class\" de la combinación de las variables \"Assortment\" y \"StoreType\"\n",
    "#Esta es una manera, pero queda muy extenso\n",
    "\n",
    "rs.loc[(rs['Assortment'] == 'a') & (rs[\"StoreType\"] == 'a'), 'class'] = 1\n",
    "rs.loc[(rs['Assortment'] == 'a') & (rs[\"StoreType\"] == 'b'), 'class'] = 2\n",
    "rs.loc[(rs['Assortment'] == 'a') & (rs[\"StoreType\"] == 'c'), 'class'] = 3\n",
    "rs.loc[(rs['Assortment'] == 'a') & (rs[\"StoreType\"] == 'd'), 'class'] = 4\n",
    "rs.loc[(rs['Assortment'] == 'b') & (rs[\"StoreType\"] == 'a'), 'class'] = 5\n",
    "rs.loc[(rs['Assortment'] == 'b') & (rs[\"StoreType\"] == 'b'), 'class'] = 6\n",
    "rs.loc[(rs['Assortment'] == 'b') & (rs[\"StoreType\"] == 'c'), 'class'] = 7\n",
    "rs.loc[(rs['Assortment'] == 'b') & (rs[\"StoreType\"] == 'd'), 'class'] = 8\n",
    "rs.loc[(rs['Assortment'] == 'c') & (rs[\"StoreType\"] == 'a'), 'class'] = 9\n",
    "rs.loc[(rs['Assortment'] == 'c') & (rs[\"StoreType\"] == 'b'), 'class'] = 10\n",
    "rs.loc[(rs['Assortment'] == 'c') & (rs[\"StoreType\"] == 'c'), 'class'] = 11\n",
    "rs.loc[(rs['Assortment'] == 'c') & (rs[\"StoreType\"] == 'd'), 'class'] = 12\n",
    "\n",
    "#Esta puede ser otra manera, cual es mas performante?\n",
    "\n",
    "#def fclass(row): if (row['Assortment'] == 'a') & (row['StoreType'] == 'a'): val = 1 elif (row['Assortment'] == 'a') & (row['StoreType'] == 'b'): val = 2 elif (row['Assortment'] == 'a') & (row['StoreType'] == 'c'): val = 3\n",
    "#else: val = 4 ### ETC return val\n",
    "\n",
    "#rs['class'] = rs.apply(fclass, axis=1)\n",
    "\n",
    "#Con numpy se puede hacer tambien, pero hay anidar un monton y puede confundir. Ejemplo: df['hasimage'] = np.where(df['photos']!= '[]', True, False)"
   ]
  },
  {
   "cell_type": "code",
   "execution_count": 64,
   "metadata": {
    "id": "L5Pk-ZTQfmY3",
    "outputId": "4d5cb5c8-eaf7-46e3-c8dd-d50e10ad8c7d"
   },
   "outputs": [
    {
     "data": {
      "text/plain": [
       "3.0      77\n",
       "1.0     381\n",
       "11.0     71\n",
       "9.0     221\n",
       "4.0     128\n",
       "12.0    220\n",
       "2.0       7\n",
       "6.0       9\n",
       "10.0      1\n",
       "Name: class, dtype: int64"
      ]
     },
     "execution_count": 64,
     "metadata": {},
     "output_type": "execute_result"
    }
   ],
   "source": [
    "rs[\"class\"].value_counts(sort = False)"
   ]
  },
  {
   "cell_type": "code",
   "execution_count": 65,
   "metadata": {
    "id": "vRwEUix_fmY4",
    "outputId": "52274ad9-fd04-4c60-e913-8a836a2e991e"
   },
   "outputs": [
    {
     "data": {
      "text/html": [
       "<div>\n",
       "<style scoped>\n",
       "    .dataframe tbody tr th:only-of-type {\n",
       "        vertical-align: middle;\n",
       "    }\n",
       "\n",
       "    .dataframe tbody tr th {\n",
       "        vertical-align: top;\n",
       "    }\n",
       "\n",
       "    .dataframe thead th {\n",
       "        text-align: right;\n",
       "    }\n",
       "</style>\n",
       "<table border=\"1\" class=\"dataframe\">\n",
       "  <thead>\n",
       "    <tr style=\"text-align: right;\">\n",
       "      <th></th>\n",
       "      <th>Store</th>\n",
       "      <th>DayOfWeek</th>\n",
       "      <th>Date</th>\n",
       "      <th>Sales</th>\n",
       "      <th>Customers</th>\n",
       "      <th>Open</th>\n",
       "      <th>Promo</th>\n",
       "      <th>StateHoliday</th>\n",
       "      <th>SchoolHoliday</th>\n",
       "      <th>class</th>\n",
       "    </tr>\n",
       "  </thead>\n",
       "  <tbody>\n",
       "    <tr>\n",
       "      <th>0</th>\n",
       "      <td>1</td>\n",
       "      <td>5</td>\n",
       "      <td>2015-07-31</td>\n",
       "      <td>5263</td>\n",
       "      <td>555</td>\n",
       "      <td>1</td>\n",
       "      <td>1</td>\n",
       "      <td>0</td>\n",
       "      <td>1</td>\n",
       "      <td>3.0</td>\n",
       "    </tr>\n",
       "    <tr>\n",
       "      <th>1</th>\n",
       "      <td>2</td>\n",
       "      <td>5</td>\n",
       "      <td>2015-07-31</td>\n",
       "      <td>6064</td>\n",
       "      <td>625</td>\n",
       "      <td>1</td>\n",
       "      <td>1</td>\n",
       "      <td>0</td>\n",
       "      <td>1</td>\n",
       "      <td>1.0</td>\n",
       "    </tr>\n",
       "    <tr>\n",
       "      <th>2</th>\n",
       "      <td>3</td>\n",
       "      <td>5</td>\n",
       "      <td>2015-07-31</td>\n",
       "      <td>8314</td>\n",
       "      <td>821</td>\n",
       "      <td>1</td>\n",
       "      <td>1</td>\n",
       "      <td>0</td>\n",
       "      <td>1</td>\n",
       "      <td>1.0</td>\n",
       "    </tr>\n",
       "    <tr>\n",
       "      <th>3</th>\n",
       "      <td>4</td>\n",
       "      <td>5</td>\n",
       "      <td>2015-07-31</td>\n",
       "      <td>13995</td>\n",
       "      <td>1498</td>\n",
       "      <td>1</td>\n",
       "      <td>1</td>\n",
       "      <td>0</td>\n",
       "      <td>1</td>\n",
       "      <td>11.0</td>\n",
       "    </tr>\n",
       "    <tr>\n",
       "      <th>4</th>\n",
       "      <td>5</td>\n",
       "      <td>5</td>\n",
       "      <td>2015-07-31</td>\n",
       "      <td>4822</td>\n",
       "      <td>559</td>\n",
       "      <td>1</td>\n",
       "      <td>1</td>\n",
       "      <td>0</td>\n",
       "      <td>1</td>\n",
       "      <td>1.0</td>\n",
       "    </tr>\n",
       "  </tbody>\n",
       "</table>\n",
       "</div>"
      ],
      "text/plain": [
       "   Store  DayOfWeek       Date  Sales  Customers  Open  Promo  StateHoliday  \\\n",
       "0      1          5 2015-07-31   5263        555     1      1             0   \n",
       "1      2          5 2015-07-31   6064        625     1      1             0   \n",
       "2      3          5 2015-07-31   8314        821     1      1             0   \n",
       "3      4          5 2015-07-31  13995       1498     1      1             0   \n",
       "4      5          5 2015-07-31   4822        559     1      1             0   \n",
       "\n",
       "   SchoolHoliday  class  \n",
       "0              1    3.0  \n",
       "1              1    1.0  \n",
       "2              1    1.0  \n",
       "3              1   11.0  \n",
       "4              1    1.0  "
      ]
     },
     "execution_count": 65,
     "metadata": {},
     "output_type": "execute_result"
    }
   ],
   "source": [
    "# llevamos la variable class al dataframe train\n",
    "class_store = rs.loc[:, ['Store', 'class']]\n",
    "train_class = train.join(class_store.set_index('Store'), on='Store', how = 'left')\n",
    "train_class.head(5)"
   ]
  },
  {
   "cell_type": "code",
   "execution_count": 66,
   "metadata": {
    "id": "z38slsXzfmY4",
    "outputId": "0a435af5-5450-4038-825f-e96eace9a77c"
   },
   "outputs": [
    {
     "data": {
      "text/plain": [
       "array([ 1,  2,  3,  4,  6,  9, 10, 11, 12])"
      ]
     },
     "execution_count": 66,
     "metadata": {},
     "output_type": "execute_result"
    }
   ],
   "source": [
    "# Convierto con \n",
    "train_class[\"class\"] = train_class[\"class\"].astype(\"int\")\n",
    "clases = np.unique(train_class[\"class\"])\n",
    "clases"
   ]
  },
  {
   "cell_type": "markdown",
   "metadata": {
    "id": "m7S93TRefmY4"
   },
   "source": [
    "Vemos que quedan solo 9 categorias"
   ]
  },
  {
   "cell_type": "code",
   "execution_count": 67,
   "metadata": {
    "id": "HP2vvsKTfmY4"
   },
   "outputs": [],
   "source": [
    "#dividimos el dataset en 9 subsets distintos segun las clases\n",
    "for x in clases:\n",
    "    globals()[\"dfclass\" + str(x)] = train_class[(train_class[\"class\"] == x)]"
   ]
  },
  {
   "cell_type": "code",
   "execution_count": 68,
   "metadata": {
    "id": "FPJ21Cr_fmY5",
    "outputId": "cdb1dafb-9c86-4cc8-81ca-b49622505c83"
   },
   "outputs": [
    {
     "data": {
      "text/plain": [
       "Store                     int64\n",
       "DayOfWeek                 int64\n",
       "Date             datetime64[ns]\n",
       "Sales                     int64\n",
       "Customers                 int64\n",
       "Open                      int64\n",
       "Promo                     int64\n",
       "StateHoliday              int64\n",
       "SchoolHoliday             int64\n",
       "class                     int32\n",
       "dtype: object"
      ]
     },
     "execution_count": 68,
     "metadata": {},
     "output_type": "execute_result"
    }
   ],
   "source": [
    "#pruebo que me hayan quedado bien\n",
    "dfclass9.head(3)\n",
    "dfclass9.dtypes"
   ]
  },
  {
   "cell_type": "code",
   "execution_count": 69,
   "metadata": {
    "id": "cftQcFh5fmY5"
   },
   "outputs": [],
   "source": [
    "# Para todos divido en train y test / pongo fecha como indice / defino los x e y para cada dataset\n",
    "for x in clases:\n",
    "    #train\n",
    "    df = globals()[\"dfclass\" + str(x)]\n",
    "    globals()[\"dfclass\" + str(x)+\"_train\"] = df[\n",
    "    (df[\"Date\"] >= min(df[\"Date\"])) &\n",
    "    (df[\"Date\"] <= max(df[\"Date\"]) + timedelta(days=-10))\n",
    "]\n",
    "    globals()[\"dfclass\" + str(x)+\"_train\"].set_index('Date', inplace=True)\n",
    "    df_train_clase = globals()[\"dfclass\" + str(x)+\"_train\"]\n",
    "    globals()[\"dfclass\" + str(x)+\"_train_y\"] = df_train_clase['Sales']\n",
    "    globals()[\"dfclass\" + str(x)+\"_train_x\"] = df_train_clase.drop(['Sales'], axis=1)\n",
    "    \n",
    "    #test\n",
    "    globals()[\"dfclass\" + str(x)+\"_test\"] = df[\n",
    "    (df[\"Date\"] <= max(df[\"Date\"])) &\n",
    "    (df[\"Date\"] >= max(df[\"Date\"]) + timedelta(days=-10))\n",
    "]\n",
    "    globals()[\"dfclass\" + str(x)+\"_test\"].set_index('Date', inplace=True)\n",
    "    df_test_clase = globals()[\"dfclass\" + str(x)+\"_test\"]\n",
    "    globals()[\"dfclass\" + str(x)+\"_test_y\"] = df_test_clase['Sales']\n",
    "    globals()[\"dfclass\" + str(x)+\"_test_x\"] = df_test_clase.drop(['Sales'], axis=1)"
   ]
  },
  {
   "cell_type": "code",
   "execution_count": 70,
   "metadata": {
    "id": "F2v28IZpfmY5",
    "outputId": "0b6ce18e-c236-4232-cb36-f878fe492591"
   },
   "outputs": [
    {
     "name": "stdout",
     "output_type": "stream",
     "text": [
      "Clase 1\n",
      "MAE: -1153.027\n",
      "Config: {'alpha': 0.0}\n",
      "Train score: 0.9149795466730625\n",
      "Test score: 0.8867526581797346\n",
      "Clase 2\n",
      "MAE: -1153.027\n",
      "Config: {'alpha': 0.0}\n",
      "Train score: 0.9493202968656427\n",
      "Test score: 0.9494296994440985\n",
      "Clase 3\n",
      "MAE: -1153.027\n",
      "Config: {'alpha': 0.0}\n",
      "Train score: 0.9181843917567257\n",
      "Test score: 0.8785143790851482\n",
      "Clase 4\n",
      "MAE: -1153.027\n",
      "Config: {'alpha': 0.0}\n",
      "Train score: 0.912222578700063\n",
      "Test score: 0.8826572529357306\n",
      "Clase 6\n",
      "MAE: -1153.027\n",
      "Config: {'alpha': 0.0}\n",
      "Train score: 0.8888303004839551\n",
      "Test score: 0.819617802784774\n",
      "Clase 9\n",
      "MAE: -1153.027\n",
      "Config: {'alpha': 0.0}\n",
      "Train score: 0.9098526424155087\n",
      "Test score: 0.8829422211311408\n",
      "Clase 10\n",
      "MAE: -1153.027\n",
      "Config: {'alpha': 0.0}\n",
      "Train score: 0.8265046702230889\n",
      "Test score: 0.862110386873536\n",
      "Clase 11\n",
      "MAE: -1153.027\n",
      "Config: {'alpha': 0.0}\n",
      "Train score: 0.9211157241384664\n",
      "Test score: 0.8905645905176436\n",
      "Clase 12\n",
      "MAE: -1153.027\n",
      "Config: {'alpha': 0.0}\n",
      "Train score: 0.8923519021687\n",
      "Test score: 0.838401496216318\n"
     ]
    }
   ],
   "source": [
    "# Aplicamos modelo\n",
    "cv = RepeatedKFold(n_splits=5, n_repeats=3, random_state=0)\n",
    "# define grid\n",
    "grid = dict()\n",
    "grid['alpha'] = np.arange(0, 1, 0.01)\n",
    "# define search\n",
    "search = GridSearchCV(model, grid, scoring='neg_mean_absolute_error', cv=cv, n_jobs=-1)\n",
    "\n",
    "#para cada dataset de clase buscamos los mejores parametros y aplicamos los 9 modelos de prediccion\n",
    "for i in clases:\n",
    "    print('Clase', i)\n",
    "    # perform the search\n",
    "    x= globals()[\"dfclass\" + str(i)+\"_train_x\"]\n",
    "    y = globals()[\"dfclass\" + str(i)+\"_train_y\"]\n",
    "    x_test = globals()[\"dfclass\" + str(i)+\"_test_x\"]\n",
    "    y_test = globals()[\"dfclass\" + str(i)+\"_test_y\"]\n",
    "    result = search.fit(x,y)\n",
    "    # reporto los parametros encontrados\n",
    "    print('MAE: %.3f' % results.best_score_)\n",
    "    print('Config: %s' % results.best_params_)\n",
    "    # aplico modelo\n",
    "    lin_reg = Lasso(alpha=results.best_params_['alpha'])\n",
    "    lin_reg.fit(x, y)\n",
    "    globals()[\"y_prediccion_\"+ str(i)] = lin_reg.predict(x_test)\n",
    "    print('Train score: ' + str(lin_reg.score(x, y)))\n",
    "    print('Test score: ' + str(lin_reg.score(x_test, y_test)))"
   ]
  },
  {
   "cell_type": "markdown",
   "metadata": {
    "id": "4QAqBxdRfmY6"
   },
   "source": [
    "## Clasificacion"
   ]
  },
  {
   "cell_type": "markdown",
   "metadata": {
    "id": "VFtQnF3HfmY6"
   },
   "source": [
    "### Introducción\n",
    "Una empresa tiene una base de datos sobre recursos humanos relacionada con profesionales de Big Data y Data Science, a los cuales desea contratar. Se desea saber qué candidatos pueden estar interesados en cambiar de trabajo.\n",
    "   - Los datos no están balanceados.\n",
    "   - Hay muchas variables categóricas.\n",
    "   - Hay valores faltantes\n",
    "Se sugiere no tomar acción sobre el desbalanceo de clases."
   ]
  },
  {
   "cell_type": "markdown",
   "metadata": {
    "id": "qUXXkCLefmY6"
   },
   "source": [
    "### Punto 1\n",
    "Preparar los datos. Considerar que puede haber variables que no son informativas como podrían ser 'enrollee_id' y 'city'. Explícitamente transformar las variables que lo requieran en categóricas y luego usar codificación onehot utilizando pd.get_dummies. Separar la variable target y normalizar los datos."
   ]
  },
  {
   "cell_type": "markdown",
   "metadata": {
    "id": "9jlxw-SBfmY6"
   },
   "source": [
    "#### Lectura y Limpieza de los Datos"
   ]
  },
  {
   "cell_type": "markdown",
   "metadata": {
    "id": "ATdcWiSBfmY6"
   },
   "source": [
    "##### Lectura de los Datos"
   ]
  },
  {
   "cell_type": "code",
   "execution_count": null,
   "metadata": {
    "id": "thpR05GDfmY7"
   },
   "outputs": [],
   "source": [
    "# Load the Drive helper and mount (pablo)\n",
    "#from google.colab import drive\n",
    "\n",
    "# This will prompt for authorization. (pablo)\n",
    "#drive.mount('/content/drive/')\n",
    "\n",
    "raw_data = pd.read_csv(\"C:/Users/georg/Desktop/Maestria/DMA/HR_train/aug_train.csv\")\n",
    "#ruta meli \"C:/Users/mavila/Desktop/MDGC/DM avanzado/Tareas/Tarea1/aug_train.csv\"\n",
    "#ruta georgi \"C:/Users/georg/Desktop/Maestria/DMA/HR_train/aug_train.csv\"\n",
    "#ruta pau \"C:/Users/pbonet/Desktop/DMA/Tarea1/aug_train.csv\"\n",
    "#ruta pablo \"/content/drive/MyDrive/DM-AVANZADO/datasets/aug_train.csv\""
   ]
  },
  {
   "cell_type": "code",
   "execution_count": null,
   "metadata": {
    "id": "_3hfE1u-fmY7",
    "outputId": "14c18174-893a-4827-8064-1f4dc4e62635"
   },
   "outputs": [],
   "source": [
    "# Visualizacion de los primeros valores del Set de Datos \n",
    "raw_data.head()"
   ]
  },
  {
   "cell_type": "code",
   "execution_count": null,
   "metadata": {
    "id": "VqPEktVLfmY7",
    "outputId": "a570647c-d097-4ed4-d5b3-bb196572b6e8"
   },
   "outputs": [],
   "source": [
    "# Visualizacion tipo de datos del Set\n",
    "raw_data= pd.DataFrame(raw_data)\n",
    "raw_data.dtypes"
   ]
  },
  {
   "cell_type": "markdown",
   "metadata": {
    "id": "J-8BO04lfmY7"
   },
   "source": [
    "#### Limpieza "
   ]
  },
  {
   "cell_type": "markdown",
   "metadata": {
    "id": "Kg2jggwUfmY8"
   },
   "source": [
    "##### Conversión de Variables Categóricas"
   ]
  },
  {
   "cell_type": "code",
   "execution_count": null,
   "metadata": {
    "id": "8pFIgWocfmY8",
    "outputId": "8e950165-3222-471c-ff56-1384c55f9031"
   },
   "outputs": [],
   "source": [
    "# Si se quiere chequear qué variables convertir. Ejemplo: major_discipline, experience, company_size, que uno esta en duda, usar:\n",
    "raw_data[\"target\"].value_counts()\n",
    "# Ver qué cantidad de valores hay y en base a eso definir si se convierten (converti todo)"
   ]
  },
  {
   "cell_type": "code",
   "execution_count": null,
   "metadata": {
    "id": "75lyPSswfmY8",
    "outputId": "4c9b4117-c362-4cc9-9bf0-43b5883b7002"
   },
   "outputs": [],
   "source": [
    "# Convertimos variables a categoricas\n",
    "var = [\"gender\",\n",
    "        \"relevent_experience\",\n",
    "        \"enrolled_university\",\n",
    "        \"education_level\",\n",
    "        \"major_discipline\",\n",
    "        \"experience\",\n",
    "        \"company_size\",\n",
    "        \"company_type\",\n",
    "        \"last_new_job\",\n",
    "      \"target\"]\n",
    "# Vamos con un loop\n",
    "for i in range(len(var)):\n",
    "    raw_data[var[i]] = raw_data[var[i]].astype(\"category\")\n",
    "# Corroboremos\n",
    "raw_data.dtypes"
   ]
  },
  {
   "cell_type": "markdown",
   "metadata": {
    "id": "LCm4lacRfmY8"
   },
   "source": [
    "##### Identificación y Tratamiento de Valores Nulos"
   ]
  },
  {
   "cell_type": "code",
   "execution_count": null,
   "metadata": {
    "id": "VNI4BMlkfmY8",
    "outputId": "915ee1ea-0e77-418e-9e69-bebf5b536d8d"
   },
   "outputs": [],
   "source": [
    "# Para saber si en el df hay Nan:\n",
    "# raw_data.isnull().values.any()\n",
    "# Para ver en una columna particular\n",
    "# raw_data[\"gender\"].isnull().values.any()\n",
    "# Se puede crear un df donde veamos en qué columnas hay null\n",
    "raw_data.isnull().any()"
   ]
  },
  {
   "cell_type": "code",
   "execution_count": null,
   "metadata": {
    "id": "WysJyKCnfmY9",
    "outputId": "1a3a1550-1c63-4302-f52a-2326d460b04c"
   },
   "outputs": [],
   "source": [
    "# El tema es que no se puede reemplazar con cualquier valor, se debe reemplazar con un valor que ya esté en la columna.\n",
    "# Para poder ver todo cn un solo chunk y menos codigo:\n",
    "# Primero nos quedamos con las variables que tienen valores nulos:\n",
    "columnas = list(raw_data.columns[raw_data.isnull().any() == True])\n",
    "# Vamos con un loop\n",
    "for i in range(len(columnas)):\n",
    "    print(raw_data[columnas[i]].value_counts())"
   ]
  },
  {
   "cell_type": "markdown",
   "metadata": {
    "id": "FhdLmq3GfmY9"
   },
   "source": [
    "Asignamos el valor \"Desconocido a los NA\""
   ]
  },
  {
   "cell_type": "code",
   "execution_count": null,
   "metadata": {
    "id": "GTuPj9jUfmY9",
    "outputId": "3263d1e8-77cd-4308-95c4-beef1cb05b71"
   },
   "outputs": [],
   "source": [
    "# Una manera seria agregar en cada valor una categoria\n",
    "\n",
    "#raw_data[\"gender\"] = raw_data[\"gender\"].cat.add_categories('Desconocido')\n",
    "#raw_data[\"gender\"].fillna('Desconocido', inplace =True)\n",
    "\n",
    "# Vamos con un loop\n",
    "for i in range(len(columnas)):\n",
    "    raw_data[columnas[i]] = raw_data[columnas[i]].cat.add_categories('Desconocido')\n",
    "    raw_data[columnas[i]].fillna('Desconocido', inplace =True)\n",
    "    \n",
    "# Corroboremos\n",
    "raw_data.isnull().any()"
   ]
  },
  {
   "cell_type": "markdown",
   "metadata": {
    "id": "M8bFJs_2fmY-"
   },
   "source": [
    "Ya tenemos el set \"raw_data\" transformado, sin valores \"NA\" e identificadas correctamente las variables categóricas. \n",
    "Ahora prepararemos el dataframe de trabajo \"df\" a partir de \"raw_data\", para ello:\n",
    "- eliminamos las variables que no aportan información relevante para los objetivos de este análisis.\n",
    "- separamos la variable \"target\" del df de trabajo y la almacenamos en df_target.\n",
    "- convertimos las variables categoricas en numericas como variables \"dummies\". "
   ]
  },
  {
   "cell_type": "code",
   "execution_count": null,
   "metadata": {
    "id": "NsoTvkrwfmY-",
    "outputId": "c575ddcc-592f-44c5-82a7-e442c79da94f"
   },
   "outputs": [],
   "source": [
    "# Eliminamos variables que no aportan informacion relevante\n",
    "df = raw_data.drop(['enrollee_id', 'city'], axis=1)\n",
    "\n",
    "# Separamos la variable \"target\" del df de trabajo y la almacenamos en df_target\n",
    "df_target = df[\"target\"]\n",
    "df = df.drop([\"target\"], axis=1)\n",
    "\n",
    "# Convertimos las variables categoricas en numericas como variables \"dummies\" \n",
    "columnas_cat = df.columns[df.dtypes == \"category\"]\n",
    "\n",
    "df_cat = pd.get_dummies(df[columnas_cat], drop_first = False, dummy_na = False)\n",
    "\n",
    "df_cat.head(5)"
   ]
  },
  {
   "cell_type": "code",
   "execution_count": null,
   "metadata": {
    "id": "R9NG6ww3fmY-"
   },
   "outputs": [],
   "source": [
    "#eliminamos las variables categoricas originales y conservamos su reemplazo por variables \"dummies\"\n",
    "df.drop(columnas_cat, axis = 1, inplace = True)\n",
    "df = pd.concat([df, df_cat], axis = 1)"
   ]
  },
  {
   "cell_type": "markdown",
   "metadata": {
    "id": "fLH2v3CqfmY-"
   },
   "source": [
    "Generamos un data frame escalado \"scaled_df\" "
   ]
  },
  {
   "cell_type": "code",
   "execution_count": null,
   "metadata": {
    "id": "a7o2qNaVfmY-",
    "outputId": "05abbbb4-d6c3-4a56-8936-7857815b5126"
   },
   "outputs": [],
   "source": [
    "# Generamos un data frame escalado \"scaled_df\" \n",
    "X_data = df.to_numpy()\n",
    "st = StandardScaler()\n",
    "X = st.fit_transform(X_data) #array escalado\n",
    "scaled_df = pd.DataFrame(X, columns=df.columns) #data frame escalado\n",
    "\n",
    "scaled_df.head(5)"
   ]
  },
  {
   "cell_type": "markdown",
   "metadata": {
    "id": "HR5qPBQ1fmY_"
   },
   "source": [
    "### Punto 2\n",
    "Visualizar los datos con PCA. Mostrar la relación de varianza explicada de todas las variables y plotear pc1 vs. pc2 y pc1 vs. pc3. Que se puede comentar sobre el gráfico."
   ]
  },
  {
   "cell_type": "markdown",
   "metadata": {
    "id": "xQ5KWasXfmY_"
   },
   "source": [
    "#### Análisis PCA"
   ]
  },
  {
   "cell_type": "code",
   "execution_count": null,
   "metadata": {
    "id": "WGWK6DnjfmY_",
    "outputId": "240fc1d1-2ac3-4963-8e0a-e5ec07f24d98"
   },
   "outputs": [],
   "source": [
    "#Analisis PCA\n",
    "pc=PCA(n_components= None) # al utilizar \"None\" calculamos todas las componentes posibles\n",
    "\n",
    "X_pca = pc.fit_transform(X) #uso el array escalado \n",
    "\n",
    "#Porcentaje de varianza explicada por cada componente\n",
    "\n",
    "fig, ax = plt.subplots(nrows=1, ncols=1, figsize=(24, 8))\n",
    "ax.bar(\n",
    "    x      = np.arange(pc.n_components_) + 1,\n",
    "    height = pc.explained_variance_ratio_\n",
    ")\n",
    "\n",
    "for x, y in zip(np.arange(len(scaled_df.columns)) + 1, pc.explained_variance_ratio_):\n",
    "    label = round(y, 2)\n",
    "    ax.annotate(\n",
    "        label,\n",
    "        (x,y),\n",
    "        textcoords=\"offset points\",\n",
    "        xytext=(0,10),\n",
    "        ha='center'\n",
    "    )\n",
    "\n",
    "ax.set_xticks(np.arange(pc.n_components_) + 1)\n",
    "ax.set_ylim(0, 0.1)\n",
    "ax.set_title('Porcentaje de varianza explicada por cada componente')\n",
    "ax.set_xlabel('Componente principal')\n",
    "ax.set_ylabel('Por. varianza explicada');"
   ]
  },
  {
   "cell_type": "code",
   "execution_count": null,
   "metadata": {
    "id": "IiXEuhcTfmZA",
    "outputId": "9e24e9c9-89b1-4af5-9b4b-5bf34a8f7a33"
   },
   "outputs": [],
   "source": [
    "#COMENTARIO PAU: este gráfico muestra lo mismo que el de barras para mi. Es necesario?\n",
    "fig = plt.figure(figsize=(24,8)) \n",
    "\n",
    "# varianza explicada\n",
    "ax = fig.add_subplot(131)\n",
    "ax.plot(pc.explained_variance_ratio_, marker='^')\n",
    "ax.set_title('PCA: Ratio de Varianza Explicada', fontsize=20)"
   ]
  },
  {
   "cell_type": "code",
   "execution_count": null,
   "metadata": {
    "id": "j7QPyzrDfmZA",
    "outputId": "269ef744-50d3-48b9-e47f-a71412ab758b"
   },
   "outputs": [],
   "source": [
    "# Porcentaje de varianza explicada acumulada\n",
    "# ==============================================================================\n",
    "prop_varianza_acum = pc.explained_variance_ratio_.cumsum()\n",
    "print('------------------------------------------')\n",
    "print('Porcentaje de varianza explicada acumulada')\n",
    "print('------------------------------------------')\n",
    "print(prop_varianza_acum)\n",
    "\n",
    "fig, ax = plt.subplots(nrows=1, ncols=1, figsize=(24, 8))\n",
    "ax.plot(\n",
    "    np.arange(len(scaled_df.columns)) + 1,\n",
    "    prop_varianza_acum,\n",
    "    marker = 'o'\n",
    ")\n",
    "\n",
    "for x, y in zip(np.arange(len(scaled_df.columns)) + 1, prop_varianza_acum):\n",
    "    label = round(y, 2)\n",
    "    ax.annotate(\n",
    "        label,\n",
    "        (x,y),\n",
    "        textcoords=\"offset points\",\n",
    "        xytext=(0,10),\n",
    "        ha='center'\n",
    "    )\n",
    "    \n",
    "ax.set_ylim(0, 1.1)\n",
    "ax.set_xticks(np.arange(pc.n_components_) + 1)\n",
    "ax.set_title('Porcentaje de varianza explicada acumulada')\n",
    "ax.set_xlabel('Componente principal')\n",
    "ax.set_ylabel('Por. varianza acumulada');\n",
    "ax.set_ylabel('Por. varianza acumulada');"
   ]
  },
  {
   "cell_type": "markdown",
   "metadata": {
    "id": "JNMuWwnofmZA"
   },
   "source": [
    "Del análisis PCA podemos ver que: \n",
    "- Para explicar el 80%  de la varianza se necesitan 44 componentes Principales de las 71 variables del Set de Datos en análisis.\n",
    "- Con 23 componentes Principales puede explicarse el 50% de la varianza.\n",
    "- Las primeras 3 componentes principales solo logran explicar el 14% de la varianza."
   ]
  },
  {
   "cell_type": "markdown",
   "metadata": {
    "id": "PRmmfEklfmZA"
   },
   "source": [
    "Revisamos las relaciones entre PC1 vs PC2 y PC1 vs PC3"
   ]
  },
  {
   "cell_type": "code",
   "execution_count": null,
   "metadata": {
    "id": "Z1sb7o2jfmZB",
    "outputId": "efcf497e-7717-4ae9-fc81-465499e27601"
   },
   "outputs": [],
   "source": [
    "#Incorporación de la variable \"target\" para analizar clusterización \n",
    "scaled_df_1 = pd.concat([scaled_df, df_target], axis = 1)\n",
    "\n",
    "#Grafico de PC1 vs PC2 y PC1 vs PC3\n",
    "fig, ax = plt.subplots(1, 2,  figsize=(24, 8))\n",
    "ax[0].scatter(X_pca[:, 0], X_pca[:, 1], c=scaled_df_1.target, cmap=plt.cm.Set1, edgecolor='k')\n",
    "ax[0].set_title(\"PrComp\")\n",
    "ax[0].set_xlabel('$PC_{1}$')\n",
    "ax[0].set_ylabel('$PC_{2}$')\n",
    "_min = -np.abs(X_pca).max()\n",
    "_max = -_min\n",
    "ax[0].set_xlim([_min-0.5, _max+0.5])\n",
    "ax[0].set_ylim([_min-0.5, _max+0.5])\n",
    "ax[0].set_title('Ploteo pc1 vs. pc2')\n",
    "# \n",
    "ax[1].scatter(X_pca[:, 0], X_pca[:, 2], c=scaled_df_1.target, cmap=plt.cm.Set1, edgecolor='k')\n",
    "ax[1].set_title(\"PrComp\")\n",
    "ax[1].set_xlabel('$PC_{1}$')\n",
    "ax[1].set_ylabel('$PC_{3}$')\n",
    "_min = -np.abs(X_pca).max()\n",
    "_max = -_min\n",
    "ax[1].set_xlim([_min-0.5, _max+0.5])\n",
    "ax[1].set_ylim([_min-0.5, _max+0.5])\n",
    "ax[1].set_title('Ploteo pc1 vs. pc3')\n"
   ]
  },
  {
   "cell_type": "markdown",
   "metadata": {
    "id": "5p7fRcr2fmZB"
   },
   "source": [
    "Las PCA1, PCA2 y PCA3 no parecieran ser eficaces para predecir la variable \"target\""
   ]
  },
  {
   "cell_type": "markdown",
   "metadata": {
    "id": "6pPqemPhfmZB"
   },
   "source": [
    "### Punto 3\n",
    "Evaluar los siguientes clasificadores Perceptron, Perceptron máxima, separación, LDA y regresión logística con penalizacion L1 y L2. Considerar los siguientes valores de penalización, en el caso de L1: L1 = np.arange(0.025, 1., step=0.025) y en el caso de L2:L2 = 10 np.linspace(0., 4., num=20). Mostrar los resultados en gráficos. En base a dichos resultados que clasificador seleccionaría."
   ]
  },
  {
   "cell_type": "markdown",
   "metadata": {
    "id": "TZUsLtBafmZB"
   },
   "source": [
    "#### Separación de los datos para Train y Test."
   ]
  },
  {
   "cell_type": "code",
   "execution_count": null,
   "metadata": {
    "id": "FKBIGR3OfmZC"
   },
   "outputs": [],
   "source": [
    "#Clasificacion de las observaciones para predecir la variable \"target\"\n",
    "#Separamos los datos para Train y Test\n",
    "X = scaled_df\n",
    "y = df_target\n",
    "X_train, X_test, y_train, y_test = train_test_split(X, y, test_size = 0.30, random_state = 0)\n",
    "\n",
    "train = X_train\n",
    "test = X_test\n",
    "target = y_train\n",
    "target_test = y_test\n",
    "\n",
    "# Synthesis valid as test for selection models\n",
    "# train, test, target, target_test = train_test_split(X, y, test_size=test_train_split_part, random_state=random_state)\n",
    "\n",
    "# Splitting train data for model tuning with cross-validation\n",
    "cv_n_split = 10 # COMENTARIO PAU: estaba en 2 lo cambie a 10.\n",
    "random_state = 0\n",
    "test_train_split_part = 0.30\n",
    "cv_train = ShuffleSplit(n_splits=cv_n_split, test_size=test_train_split_part, random_state=random_state)\n",
    "\n",
    "# Definicion coeficientes de penalizacion\n",
    "l1 = np.arange(.025, 1., step=.025) # Lasso Regularization\n",
    "l2 = 10**np.linspace(0., 4., num=20) # Ridge Regularization\n"
   ]
  },
  {
   "cell_type": "code",
   "execution_count": null,
   "metadata": {
    "id": "LW4nb3K7fmZC"
   },
   "outputs": [],
   "source": [
    "#COMENTARIO PAU: revisar esto\n",
    "\n",
    "def clf_performance(classifier, model_name):\n",
    "    print(model_name)\n",
    "    print('Best Score: ' + str(classifier.best_score_))\n",
    "    print('Best Parameters: ' + str(classifier.best_params_))\n",
    "    \n",
    "# list of accuracy of all model - amount of metrics_now * 2 (train & test datasets)\n",
    "\n",
    "\n",
    "metrics_all = {1 : 'r2_score', 2: 'acc', 3 : 'rmse', 4 : 're'}\n",
    "metrics_now = [1, 2, 3, 4] # you can only select some numbers of metrics from metrics_all\n",
    "\n",
    "\n",
    "num_models = 4\n",
    "acc_train = []\n",
    "acc_test = []\n",
    "acc_all = np.empty((len(metrics_now)*2, 0)).tolist()\n",
    "acc_all\n",
    "\n",
    "acc_all_pred = np.empty((len(metrics_now), 0)).tolist()\n",
    "acc_all_pred\n",
    "\n",
    "def acc_d(y_meas, y_pred):\n",
    "    # Relative error between predicted y_pred and measured y_meas values\n",
    "    return mean_absolute_error(y_meas, y_pred)*len(y_meas)/sum(abs(y_meas))\n",
    "\n",
    "def acc_rmse(y_meas, y_pred):\n",
    "    # RMSE between predicted y_pred and measured y_meas values\n",
    "    return (mean_squared_error(y_meas, y_pred))**0.5\n",
    "\n",
    "def acc_metrics_calc(num,model,X_train,X_test,y_train,y_test):\n",
    "    # The models selection stage\n",
    "    # Calculation of accuracy of model by different metrics\n",
    "    global acc_all\n",
    "\n",
    "    ytrain = model.predict(X_train).astype(int)\n",
    "    ytest = model.predict(X_test).astype(int)\n",
    "    print('y_train = ', y_train[:5].values)\n",
    "    print('ytrain = ', ytrain[:5])\n",
    "    print('y_test =', y_test[:5].values)\n",
    "    print('ytest =', ytest[:5])\n",
    "\n",
    "    num_acc = 0\n",
    "    for x in metrics_now:\n",
    "        if x == 1:\n",
    "            #r2_score criterion\n",
    "            acc_train = round(r2_score(y_train, ytrain) * 100, 2)\n",
    "            acc_test = round(r2_score(y_test, ytest) * 100, 2)\n",
    "        elif x == 2:\n",
    "            #accuracy_score criterion\n",
    "            acc_train = round(metrics.accuracy_score(y_train, ytrain) * 100, 2)\n",
    "            acc_test = round(metrics.accuracy_score(y_test, ytest) * 100, 2)\n",
    "        elif x == 3:\n",
    "            #rmse criterion\n",
    "            acc_train = round(acc_rmse(y_train, ytrain) * 100, 2)\n",
    "            acc_test = round(acc_rmse(y_test, ytest) * 100, 2)\n",
    "  #      elif x == 4:\n",
    "         #relative error criterion\n",
    "   #         acc_train = round(acc_d(y_train, ytrain) * 100, 2)\n",
    "   #         acc_test = round(acc_d(y_test, ytest) * 100, 2)\n",
    "        \n",
    "        print('acc of', metrics_all[x], 'for train =', acc_train)\n",
    "        print('acc of', metrics_all[x], 'for test =', acc_test)\n",
    "        acc_all[num_acc].append(acc_train) #train\n",
    "        acc_all[num_acc+1].append(acc_test) #test\n",
    "        num_acc += 2\n",
    " \n",
    "   \n",
    "def acc_metrics_calc_pred(num,model,name_model,train,test,target):\n",
    "    # The prediction stage\n",
    "    # Calculation of accuracy of model for all different metrics and creates of the main submission file for the best model (num=0)\n",
    "    global acc_all_pred\n",
    "\n",
    "    ytrain = model.predict(train).astype(int)\n",
    "    ytest = model.predict(test).astype(int)\n",
    "\n",
    "    print('**********')\n",
    "    print(name_model)\n",
    "    print('target = ', target[:15].values)\n",
    "    print('ytrain = ', ytrain[:15])\n",
    "    print('ytest =', ytest[:15])\n",
    "    \n",
    "    num_acc = 0\n",
    "    for x in metrics_now:\n",
    "        if x == 1:\n",
    "            #r2_score criterion\n",
    "            acc_train = round(r2_score(target, ytrain) * 100, 2)\n",
    "        elif x == 2:\n",
    "            #accuracy_score criterion\n",
    "            acc_train = round(metrics.accuracy_score(target, ytrain) * 100, 2)\n",
    "        elif x == 3:\n",
    "            #rmse criterion\n",
    "            acc_train = round(acc_rmse(target, ytrain) * 100, 2)\n",
    "        elif x == 4:\n",
    "            #relative error criterion\n",
    "            acc_train = round(acc_d(target, ytrain) * 100, 2)\n",
    "\n",
    "        print('acc of', metrics_all[x], 'for train =', acc_train)\n",
    "        acc_all_pred[num_acc].append(acc_train) #train\n",
    "        num_acc += 1\n",
    "    \n",
    "    # Save the submission file\n",
    "    #submission[target_name] = ytest\n",
    "    #submission.to_csv('submission_' + name_model + '.csv', index=False)    \n",
    "    \n",
    "# Thanks to https://scikit-learn.org/stable/auto_examples/model_selection/plot_learning_curve.html#sphx-glr-auto-examples-model-selection-plot-learning-curve-py\n",
    "def plot_learning_curve(estimator, title, X, y, cv=None, axes=None, ylim=None, \n",
    "                        n_jobs=None, train_sizes=np.linspace(.1, 1.0, 5), random_state=0):\n",
    "    \"\"\"\n",
    "    Generate 2 plots: \n",
    "    - the test and training learning curve, \n",
    "    - the training samples vs fit times curve.\n",
    "\n",
    "    Parameters\n",
    "    ----------\n",
    "    estimator : object type that implements the \"fit\" and \"predict\" methods\n",
    "        An object of that type which is cloned for each validation.\n",
    "\n",
    "    title : string\n",
    "        Title for the chart.\n",
    "\n",
    "    X : array-like, shape (n_samples, n_features)\n",
    "        Training vector, where n_samples is the number of samples and\n",
    "        n_features is the number of features.\n",
    "\n",
    "    y : array-like, shape (n_samples) or (n_samples, n_features), optional\n",
    "        Target relative to X for classification or regression;\n",
    "        None for unsupervised learning.\n",
    "\n",
    "    axes : array of 3 axes, optional (default=None)\n",
    "        Axes to use for plotting the curves.\n",
    "\n",
    "    ylim : tuple, shape (ymin, ymax), optional\n",
    "        Defines minimum and maximum yvalues plotted.\n",
    "\n",
    "    cv : int, cross-validation generator or an iterable, optional\n",
    "        Determines the cross-validation splitting strategy.\n",
    "        Possible inputs for cv are:\n",
    "\n",
    "          - None, to use the default 5-fold cross-validation,\n",
    "          - integer, to specify the number of folds.\n",
    "          - :term:`CV splitter`,\n",
    "          - An iterable yielding (train, test) splits as arrays of indices.\n",
    "\n",
    "        For integer/None inputs, if ``y`` is binary or multiclass,\n",
    "        :class:`StratifiedKFold` used. If the estimator is not a classifier\n",
    "        or if ``y`` is neither binary nor multiclass, :class:`KFold` is used.\n",
    "\n",
    "        Refer :ref:`User Guide <cross_validation>` for the various\n",
    "        cross-validators that can be used here.\n",
    "\n",
    "    train_sizes : array-like, shape (n_ticks,), dtype float or int\n",
    "        Relative or absolute numbers of training examples that will be used to\n",
    "        generate the learning curve. If the dtype is float, it is regarded as a\n",
    "        fraction of the maximum size of the training set (that is determined\n",
    "        by the selected validation method), i.e. it has to be within (0, 1].\n",
    "        Otherwise it is interpreted as absolute sizes of the training sets.\n",
    "        Note that for classification the number of samples usually have to\n",
    "        be big enough to contain at least one sample from each class.\n",
    "        (default: np.linspace(0.1, 1.0, 5))\n",
    "    \n",
    "    random_state : random_state\n",
    "    \n",
    "    \"\"\"\n",
    "    fig, axes = plt.subplots(2, 1, figsize=(20, 10))\n",
    "    \n",
    "    if axes is None:\n",
    "        _, axes = plt.subplots(1, 2, figsize=(20, 5))\n",
    "\n",
    "    axes[0].set_title(title)\n",
    "    if ylim is not None:\n",
    "        axes[0].set_ylim(*ylim)\n",
    "    axes[0].set_xlabel(\"Training examples\")\n",
    "    axes[0].set_ylabel(\"Score\")\n",
    "\n",
    "    cv_train = ShuffleSplit(n_splits=cv_n_split, test_size=test_train_split_part, random_state=random_state)\n",
    "    \n",
    "    train_sizes, train_scores, test_scores, fit_times, _ = \\\n",
    "        learning_curve(estimator=estimator, X=X, y=y, cv=cv,\n",
    "                       train_sizes=train_sizes,\n",
    "                       return_times=True)\n",
    "    train_scores_mean = np.mean(train_scores, axis=1)\n",
    "    train_scores_std = np.std(train_scores, axis=1)\n",
    "    test_scores_mean = np.mean(test_scores, axis=1)\n",
    "    test_scores_std = np.std(test_scores, axis=1)\n",
    "    fit_times_mean = np.mean(fit_times, axis=1)\n",
    "    fit_times_std = np.std(fit_times, axis=1)\n",
    "\n",
    "    # Plot learning curve\n",
    "    axes[0].grid()\n",
    "    axes[0].fill_between(train_sizes, train_scores_mean - train_scores_std,\n",
    "                         train_scores_mean + train_scores_std, alpha=0.1,\n",
    "                         color=\"r\")\n",
    "    axes[0].fill_between(train_sizes, test_scores_mean - test_scores_std,\n",
    "                         test_scores_mean + test_scores_std, alpha=0.1,\n",
    "                         color=\"g\")\n",
    "    axes[0].plot(train_sizes, train_scores_mean, 'o-', color=\"r\",\n",
    "                 label=\"Training score\")\n",
    "    axes[0].plot(train_sizes, test_scores_mean, 'o-', color=\"g\",\n",
    "                 label=\"Cross-validation score\")\n",
    "    axes[0].legend(loc=\"best\")\n",
    "\n",
    "    # Plot n_samples vs fit_times\n",
    "    axes[1].grid()\n",
    "    axes[1].plot(train_sizes, fit_times_mean, 'o-')\n",
    "    axes[1].fill_between(train_sizes, fit_times_mean - fit_times_std,\n",
    "                         fit_times_mean + fit_times_std, alpha=0.1)\n",
    "    axes[1].set_xlabel(\"Training examples\")\n",
    "    axes[1].set_ylabel(\"fit_times\")\n",
    "    axes[1].set_title(\"Scalability of the model\")\n",
    "\n",
    "    plt.show()\n",
    "    return\n",
    "\n"
   ]
  },
  {
   "cell_type": "markdown",
   "metadata": {
    "id": "1hB7EGiIfmZD"
   },
   "source": [
    "#### Construcción Modelos de Clasificación"
   ]
  },
  {
   "cell_type": "markdown",
   "metadata": {
    "id": "Rx2K2y8ZfmZD"
   },
   "source": [
    "##### Perceptron"
   ]
  },
  {
   "cell_type": "code",
   "execution_count": null,
   "metadata": {
    "id": "K9weDAIufmZD",
    "outputId": "c6a5e2da-8c22-4bc4-9133-e1bb529c7a9f"
   },
   "outputs": [],
   "source": [
    "# Definicion Modelo\n",
    "perceptron = Perceptron()\n",
    "# Definicion Grid \n",
    "param_grid = {'penalty': ['l1', 'l2']}\n",
    "# Definicion Search \n",
    "perceptron_CV = GridSearchCV(estimator=perceptron, param_grid=param_grid, cv=cv_train, verbose=False)\n",
    "# Performance Search\n",
    "best_clf_perceptron = perceptron_CV.fit(train, target)\n",
    "# Aplicacion y Perform modelo\n",
    "y_pred=best_clf_perceptron.predict(X_test)\n",
    "clf_performance(best_clf_perceptron,'Perceptron')\n",
    "print('accuracy is ',accuracy_score(y_pred,y_test))\n",
    "print('roc_auc_score is ',roc_auc_score(y_test,y_pred))\n",
    "\n",
    "acc_metrics_calc(17,perceptron_CV,train,test,target,target_test)\n"
   ]
  },
  {
   "cell_type": "code",
   "execution_count": null,
   "metadata": {
    "id": "2i_vNurRfmZD",
    "outputId": "46b129e6-081a-4bed-a370-bdf87ea985bd"
   },
   "outputs": [],
   "source": [
    "# Building learning curve of model\n",
    "plot_learning_curve(perceptron, \"Perceptron\", train, target, cv=cv_train)"
   ]
  },
  {
   "cell_type": "markdown",
   "metadata": {
    "id": "0-bf3wxlfmZE"
   },
   "source": [
    "##### Support Vector Machines (Perceptron Maxima Separacion)"
   ]
  },
  {
   "cell_type": "code",
   "execution_count": null,
   "metadata": {
    "id": "KFBDb8EJfmZE",
    "outputId": "ec56ea15-5477-4189-9e50-99d80c386e93"
   },
   "outputs": [],
   "source": [
    "# Definicion Modelo\n",
    "svr = SVC()\n",
    "# Definicion Grid \n",
    "param_grid = {'kernel': ['linear', 'poly', 'rbf', 'sigmoid'], 'tol': [1e-4]}\n",
    "# Definicion Search \n",
    "svr_CV = GridSearchCV(svr, param_grid=param_grid, \n",
    "                      cv=cv_train, verbose=False)\n",
    "# Performance Search\n",
    "best_clf_svr = svr_CV.fit(train, target)\n",
    "\n",
    "# Aplicacion y Perform modelo\n",
    "y_pred=best_clf_svr.predict(test)\n",
    "clf_performance(best_clf_svr,'Support Vector Machine')\n",
    "print('accuracy is ',accuracy_score(y_pred,target_test))\n",
    "print('roc_auc_score is ',roc_auc_score(y_test,target_pred))\n",
    "\n",
    "acc_metrics_calc(1,svr_CV,train,test,target,target_test)"
   ]
  },
  {
   "cell_type": "code",
   "execution_count": null,
   "metadata": {
    "id": "h82UcW9hfmZE",
    "outputId": "df6d6fa4-52ef-4da3-b28f-390b0788948f"
   },
   "outputs": [],
   "source": [
    "# Building learning curve of model\n",
    "plot_learning_curve(svr, \"Support Vector Machine\", train, target, cv=cv_train)"
   ]
  },
  {
   "cell_type": "markdown",
   "metadata": {
    "id": "WByTNURjfmZE"
   },
   "source": [
    "##### LDA"
   ]
  },
  {
   "cell_type": "code",
   "execution_count": null,
   "metadata": {
    "id": "4htoIPY1fmZF",
    "outputId": "170cc8f0-2cd3-4095-8d59-ccd4fb705339"
   },
   "outputs": [],
   "source": [
    "# Definicion Modelo\n",
    "lda = LinearDiscriminantAnalysis() \n",
    "# Definicion Grid \n",
    "param_grid = {'solver' : ['lsqr'],'shrinkage': [0,0.25,0.75,1]} #para poder aplicar 'shrinkage' debe usarse solver: 'lsqr' o 'eigen'\n",
    "lda_CV = GridSearchCV(lda, param_grid=param_grid, cv=cv_train, verbose=True, n_jobs = -1)\n",
    "# Performance Search\n",
    "best_clf_lda = lda_CV.fit(train, target)\n",
    "\n",
    "# Aplicacion y Perform modelo\n",
    "y_pred=best_clf_lda.predict(test)\n",
    "#y_pred.value_counts\n",
    "clf_performance(best_clf_lda,'LDA')\n",
    "print('accuracy is ',accuracy_score(y_pred,target_test))\n",
    "print('roc_auc_score is ',roc_auc_score(target_test,y_pred))\n",
    "\n",
    "acc_metrics_calc(10,lda_CV,train,test,target,target_test)"
   ]
  },
  {
   "cell_type": "code",
   "execution_count": null,
   "metadata": {
    "id": "_FhhtBgEfmZF",
    "outputId": "83e692ba-d5cc-4958-f199-e224227cb3bd"
   },
   "outputs": [],
   "source": [
    "# Building learning curve of model\n",
    "plot_learning_curve(lda_CV, \"Linear Discriminant Analysis\", train, target, cv=cv_train)"
   ]
  },
  {
   "cell_type": "markdown",
   "metadata": {
    "id": "GGIdeK7AfmZF"
   },
   "source": [
    "##### Logistic Regression"
   ]
  },
  {
   "cell_type": "code",
   "execution_count": null,
   "metadata": {
    "id": "Y9T2UdMwfmZF",
    "outputId": "ce7ab591-f817-4d3a-8063-9e834df41500"
   },
   "outputs": [],
   "source": [
    "# Definicion Modelo\n",
    "lr = LogisticRegression()\n",
    "# Definicion Grid \n",
    "param_grid = {'penalty' : ['l1', 'l2']}\n",
    "# Definicion Search \n",
    "clf_lr = GridSearchCV(lr, param_grid = param_grid, cv = 5, verbose = False, n_jobs = -1)\n",
    "# Performance Search\n",
    "best_clf_lr = clf_lr.fit(train, target)\n",
    "# Aplicacion y Perform modelo\n",
    "y_pred=best_clf_lr.predict(test)\n",
    "clf_performance(best_clf_lr,'Logistic Regression')\n",
    "print('accuracy is ',accuracy_score(y_pred,target_test))\n",
    "print('roc_auc_score is ',roc_auc_score(target_test,y_pred))\n",
    "acc_metrics_calc(10,clf_lr,train,test,target,target_test)"
   ]
  },
  {
   "cell_type": "code",
   "execution_count": null,
   "metadata": {
    "id": "NhmINWCafmZG",
    "outputId": "aa1720e4-9686-4b5f-ff57-874c5ef4a9b9",
    "scrolled": true
   },
   "outputs": [],
   "source": [
    "# Building learning curve of model\n",
    "plot_learning_curve(clf_lr, \"Linear Discriminant Analysis\", train, target, cv=cv_train)"
   ]
  },
  {
   "cell_type": "markdown",
   "metadata": {
    "id": "YOaEnr6OfmZG"
   },
   "source": [
    "#### Comparación Modelos de Clasificación"
   ]
  },
  {
   "cell_type": "code",
   "execution_count": null,
   "metadata": {
    "id": "Czlp6pbzfmZG",
    "outputId": "88316d79-68e1-46c6-8e2d-0a319a8716a8"
   },
   "outputs": [],
   "source": [
    "models = pd.DataFrame({\n",
    "    'Model': ['Perceptron','Support Vector Machines', 'Linear Discriminant Analysis',\n",
    "              'Logistic Regression']})\n",
    "print (models)"
   ]
  },
  {
   "cell_type": "code",
   "execution_count": null,
   "metadata": {
    "id": "DlGeDC5jfmZG",
    "outputId": "168bba4f-daa6-44e4-9bcc-156828936873"
   },
   "outputs": [],
   "source": [
    "for x in [1, 2, 3, 4]:\n",
    "    xs = metrics_all[x]\n",
    "    models[xs + '_train'] = acc_all[(x-1)*2]\n",
    "    models[xs + '_test'] = acc_all[(x-1)*2+1]\n",
    "    if xs == \"acc\":\n",
    "    models[xs + '_diff'] = models[xs + '_train'] - models[xs + '_test']\n",
    "models"
   ]
  },
  {
   "cell_type": "code",
   "execution_count": null,
   "metadata": {
    "id": "ZmuDWS0XfmZH",
    "outputId": "92a7eb12-446b-40c2-99af-8d74d3c339df"
   },
   "outputs": [],
   "source": [
    "print('Prediction accuracy for models')\n",
    "ms = metrics_all[metrics_now[1]] # the accuracy\n",
    "models.sort_values(by=[(ms + '_test'), (ms + '_train')], ascending=False)"
   ]
  },
  {
   "cell_type": "code",
   "execution_count": null,
   "metadata": {
    "id": "PW87-hQlfmZH"
   },
   "outputs": [],
   "source": [
    "pd.options.display.float_format = '{:,.2f}'.format"
   ]
  },
  {
   "cell_type": "code",
   "execution_count": null,
   "metadata": {
    "id": "UxWZ1FQ5fmZH",
    "outputId": "a9eae0d3-c66d-45e5-d6d6-de7476ad360e"
   },
   "outputs": [],
   "source": [
    "for x in metrics_now:   \n",
    "    # Plot\n",
    "    xs = metrics_all[x]\n",
    "    xs_train = metrics_all[x] + '_train'\n",
    "    xs_test = metrics_all[x] + '_test'\n",
    "    plt.figure(figsize=[25,6])\n",
    "    xx = models['Model']\n",
    "    plt.tick_params(labelsize=14)\n",
    "    plt.plot(xx, models[xs_train], label = xs_train)\n",
    "    plt.plot(xx, models[xs_test], label = xs_test)\n",
    "    plt.legend()\n",
    "    plt.title(str(xs) + ' criterion for ' + str(num_models) + ' popular models for train and test datasets')\n",
    "    plt.xlabel('Models')\n",
    "    plt.ylabel(xs + ', %')\n",
    "    plt.xticks(xx, rotation='vertical')\n",
    "    plt.show()"
   ]
  },
  {
   "cell_type": "code",
   "execution_count": null,
   "metadata": {
    "id": "jDOGurd1fmZI",
    "outputId": "3bcd096e-f116-4cfc-e917-b5fcb6c931d2"
   },
   "outputs": [],
   "source": [
    "# Choose the number of metric by which the best models will be determined =>  {1 : 'r2_score', 2 : 'relative_error', 3 : 'rmse'}\n",
    "metrics_main = 2\n",
    "xs = metrics_all[metrics_main]\n",
    "xs_train = metrics_all[metrics_main] + '_train'\n",
    "xs_test = metrics_all[metrics_main] + '_test'\n",
    "print('The best models by the',xs,'criterion:')\n",
    "direct_sort = False if (metrics_main >= 2) else True\n",
    "models_sort = models.sort_values(by=[xs_test, xs_train], ascending=direct_sort)"
   ]
  },
  {
   "cell_type": "code",
   "execution_count": null,
   "metadata": {
    "id": "ZyKIa7RyfmZI"
   },
   "outputs": [],
   "source": [
    "# Selection the best models except VotingClassifier\n",
    "models_sort = models_sort[models_sort.Model != 'VotingClassifier']\n",
    "models_best = models_sort[(models_sort.acc_diff < 5) & (models_sort.acc_train > 90)]\n",
    "models_best[['Model', ms + '_train', ms + '_test', 'acc_diff']].sort_values(by=['acc_test'], ascending=False)"
   ]
  },
  {
   "cell_type": "markdown",
   "metadata": {
    "id": "HDj7712OfmZI"
   },
   "source": [
    "### Punto 4\n",
    "Con la función barh de matplotlib o pandas puede mostrar los valores de los coeficientes β de LDA y regresión logística. Previamente entrene un clasificador LDA con penalización L1 utilizando el mejor valor de shrinkage. Realice la misma tarea para regresión logística con penalización L2. Repita el gráfico para |β| > 0.1 . El uso de la función barh es una sugerencia, puede usar otro tipo de gráfico para mostrar la interacción."
   ]
  },
  {
   "cell_type": "code",
   "execution_count": null,
   "metadata": {
    "id": "tAUELSoEfmZI"
   },
   "outputs": [],
   "source": [
    "#LDA penalización valor optimo de L1\n",
    "ldal1 = LinearDiscriminantAnalysis(solver = 'lsqr', shrinkage = 0.25)\n",
    "betaldal1 = ldal1.fit(train,target).coef_\n",
    "#LR penalizacion L2\n",
    "lrl2 = LogisticRegression(penalty = 'l2')\n",
    "betalrl2 = lrl2.fit(train,target).coef_\n",
    "#Preparo dataset de betas para graficar\n",
    "betas = betaldal1 + betalrll2\n",
    "betas = pd.DataFrame(data=betas, index:[\"BetasLDA\", \"BetasLR\"])\n",
    "\n"
   ]
  },
  {
   "cell_type": "code",
   "execution_count": null,
   "metadata": {
    "id": "JQPfGtjIfmZI",
    "outputId": "10e27900-b8a2-4b87-ca65-9718493f4dd5"
   },
   "outputs": [],
   "source": [
    "#Grafico los betas\n",
    "pd.crosstab(pd.cut(betas.Age, range(0, 100, 10)), data.Sex, values=data.Survived, aggfunc=np.mean).plot(kind = 'bar')"
   ]
  },
  {
   "cell_type": "code",
   "execution_count": null,
   "metadata": {
    "id": "PHUk1j-GfmZJ"
   },
   "outputs": [],
   "source": []
  }
 ],
 "metadata": {
  "colab": {
   "name": "Tarea1_ModelosLineales_v8.ipynb",
   "provenance": []
  },
  "kernelspec": {
   "display_name": "Python 3",
   "language": "python",
   "name": "python3"
  },
  "language_info": {
   "codemirror_mode": {
    "name": "ipython",
    "version": 3
   },
   "file_extension": ".py",
   "mimetype": "text/x-python",
   "name": "python",
   "nbconvert_exporter": "python",
   "pygments_lexer": "ipython3",
   "version": "3.8.5"
  }
 },
 "nbformat": 4,
 "nbformat_minor": 1
}
